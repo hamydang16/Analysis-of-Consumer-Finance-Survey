{
 "cells": [
  {
   "cell_type": "markdown",
   "metadata": {},
   "source": [
    "# Portfolio 4: Analysis of Consumer Finance Survey"
   ]
  },
  {
   "cell_type": "markdown",
   "metadata": {},
   "source": [
    "## Analysis proposal\n",
    "One of the residual effect of COVID-19 pandemic is the surge in the number of investors as technology makes it much easier to participate in the financial market. For many funds managers, it would probably be helpful to build a profile of possible clients based on the the ability to take risks as well as other helpful attributes. \n",
    "\n",
    "This portfolio will attempt to focus on business owners in the US, since this segment of the population is more prone to external shocks, instead of the whole population. Based on the dataset, we are interested in learning:"
   ]
  },
  {
   "cell_type": "markdown",
   "metadata": {},
   "source": [
    "<div class=\"alert alert-block alert-info\">\n",
    "<ol>\n",
    "  <li> How can we cluster business owners in the US to better identify different types of investors?</li>\n",
    "  <li> What are the influential attributes in determining the clusters?\n",
    "</li>\n",
    "\n",
    "</div>"
   ]
  },
  {
   "cell_type": "code",
   "execution_count": 127,
   "metadata": {},
   "outputs": [],
   "source": [
    "#Import libraries\n",
    "import pandas as pd\n",
    "import numpy as np\n",
    "import rowgenerators as rg\n",
    "import seaborn as sns\n",
    "import plotly.express as px\n",
    "import matplotlib.pyplot as plt\n",
    "import matplotlib.ticker as ticker\n",
    "%matplotlib inline\n",
    "from rowgenerators import  parse_app_url\n",
    "from sklearn.cluster import KMeans\n",
    "from sklearn.decomposition import PCA\n",
    "from sklearn.metrics import silhouette_score\n",
    "from sklearn.pipeline import make_pipeline\n",
    "from sklearn.preprocessing import StandardScaler\n",
    "import gower\n",
    "from scipy.cluster.hierarchy import linkage, fcluster, dendrogram, cut_tree\n",
    "from scipy.spatial.distance import pdist,squareform\n",
    "from scipy.stats.mstats import trimmed_var"
   ]
  },
  {
   "cell_type": "code",
   "execution_count": 128,
   "metadata": {},
   "outputs": [],
   "source": [
    "#Display format option, palette\n",
    "palette = [\"#2c69b0\", \"#b5c8e2\", \"#f02720\", \"#ffb6b0\", \"#ac613c\", \"#e9c39b\",\"#6ba3d6\",\"#b5e9fd\",\"#ac8763\",\"#ddc9b4\",\"#bd0a36\", \"#f4737a\"]\n",
    "sns.set_palette(palette)\n",
    "pd.options.display.float_format = '{:,.2f}'.format"
   ]
  },
  {
   "cell_type": "markdown",
   "metadata": {},
   "source": [
    "## Data source"
   ]
  },
  {
   "cell_type": "markdown",
   "metadata": {},
   "source": [
    "To achieve this, we will make use of the Survey of Consumer Finance (SCF), which is sponsored by the US Federal Reserve and can be found at this [website](https://www.federalreserve.gov/econres/scfindex.htm). The survey tracks balance sheets, pensions, income and demographical information about families in the US. The survey is conducted every 3 years . For simplicity and computational ability, we will look at the public extract data for the year 2022, which can be found on the same site. "
   ]
  },
  {
   "cell_type": "code",
   "execution_count": 129,
   "metadata": {},
   "outputs": [],
   "source": [
    "#Function to download data from the Federal Reserve website\n",
    "#Select the public extract file\n",
    "#display dataframe\n",
    "def wrangle(url, folder, filename):\n",
    "    df = rg.dataframe(url+folder+\"#\"+filename)\n",
    "    return df"
   ]
  },
  {
   "cell_type": "code",
   "execution_count": 130,
   "metadata": {},
   "outputs": [
    {
     "data": {
      "text/html": [
       "<div>\n",
       "<style scoped>\n",
       "    .dataframe tbody tr th:only-of-type {\n",
       "        vertical-align: middle;\n",
       "    }\n",
       "\n",
       "    .dataframe tbody tr th {\n",
       "        vertical-align: top;\n",
       "    }\n",
       "\n",
       "    .dataframe thead th {\n",
       "        text-align: right;\n",
       "    }\n",
       "</style>\n",
       "<table border=\"1\" class=\"dataframe\">\n",
       "  <thead>\n",
       "    <tr style=\"text-align: right;\">\n",
       "      <th></th>\n",
       "      <th>yy1</th>\n",
       "      <th>y1</th>\n",
       "      <th>wgt</th>\n",
       "      <th>hhsex</th>\n",
       "      <th>age</th>\n",
       "      <th>agecl</th>\n",
       "      <th>educ</th>\n",
       "      <th>edcl</th>\n",
       "      <th>married</th>\n",
       "      <th>kids</th>\n",
       "      <th>...</th>\n",
       "      <th>nwcat</th>\n",
       "      <th>inccat</th>\n",
       "      <th>assetcat</th>\n",
       "      <th>ninccat</th>\n",
       "      <th>ninc2cat</th>\n",
       "      <th>nwpctlecat</th>\n",
       "      <th>incpctlecat</th>\n",
       "      <th>nincpctlecat</th>\n",
       "      <th>incqrtcat</th>\n",
       "      <th>nincqrtcat</th>\n",
       "    </tr>\n",
       "  </thead>\n",
       "  <tbody>\n",
       "    <tr>\n",
       "      <th>0</th>\n",
       "      <td>1</td>\n",
       "      <td>11</td>\n",
       "      <td>3,027.96</td>\n",
       "      <td>2</td>\n",
       "      <td>70</td>\n",
       "      <td>5</td>\n",
       "      <td>9</td>\n",
       "      <td>3</td>\n",
       "      <td>2</td>\n",
       "      <td>2</td>\n",
       "      <td>...</td>\n",
       "      <td>4</td>\n",
       "      <td>2</td>\n",
       "      <td>4</td>\n",
       "      <td>2</td>\n",
       "      <td>1</td>\n",
       "      <td>8</td>\n",
       "      <td>3</td>\n",
       "      <td>3</td>\n",
       "      <td>2</td>\n",
       "      <td>1</td>\n",
       "    </tr>\n",
       "    <tr>\n",
       "      <th>1</th>\n",
       "      <td>1</td>\n",
       "      <td>12</td>\n",
       "      <td>3,054.90</td>\n",
       "      <td>2</td>\n",
       "      <td>70</td>\n",
       "      <td>5</td>\n",
       "      <td>9</td>\n",
       "      <td>3</td>\n",
       "      <td>2</td>\n",
       "      <td>2</td>\n",
       "      <td>...</td>\n",
       "      <td>4</td>\n",
       "      <td>2</td>\n",
       "      <td>5</td>\n",
       "      <td>2</td>\n",
       "      <td>1</td>\n",
       "      <td>8</td>\n",
       "      <td>3</td>\n",
       "      <td>3</td>\n",
       "      <td>2</td>\n",
       "      <td>1</td>\n",
       "    </tr>\n",
       "    <tr>\n",
       "      <th>2</th>\n",
       "      <td>1</td>\n",
       "      <td>13</td>\n",
       "      <td>3,163.64</td>\n",
       "      <td>2</td>\n",
       "      <td>70</td>\n",
       "      <td>5</td>\n",
       "      <td>9</td>\n",
       "      <td>3</td>\n",
       "      <td>2</td>\n",
       "      <td>2</td>\n",
       "      <td>...</td>\n",
       "      <td>4</td>\n",
       "      <td>2</td>\n",
       "      <td>4</td>\n",
       "      <td>2</td>\n",
       "      <td>1</td>\n",
       "      <td>8</td>\n",
       "      <td>3</td>\n",
       "      <td>3</td>\n",
       "      <td>1</td>\n",
       "      <td>1</td>\n",
       "    </tr>\n",
       "    <tr>\n",
       "      <th>3</th>\n",
       "      <td>1</td>\n",
       "      <td>14</td>\n",
       "      <td>3,166.23</td>\n",
       "      <td>2</td>\n",
       "      <td>70</td>\n",
       "      <td>5</td>\n",
       "      <td>9</td>\n",
       "      <td>3</td>\n",
       "      <td>2</td>\n",
       "      <td>2</td>\n",
       "      <td>...</td>\n",
       "      <td>3</td>\n",
       "      <td>2</td>\n",
       "      <td>4</td>\n",
       "      <td>1</td>\n",
       "      <td>1</td>\n",
       "      <td>6</td>\n",
       "      <td>3</td>\n",
       "      <td>2</td>\n",
       "      <td>1</td>\n",
       "      <td>1</td>\n",
       "    </tr>\n",
       "    <tr>\n",
       "      <th>4</th>\n",
       "      <td>1</td>\n",
       "      <td>15</td>\n",
       "      <td>3,235.62</td>\n",
       "      <td>2</td>\n",
       "      <td>70</td>\n",
       "      <td>5</td>\n",
       "      <td>9</td>\n",
       "      <td>3</td>\n",
       "      <td>2</td>\n",
       "      <td>2</td>\n",
       "      <td>...</td>\n",
       "      <td>3</td>\n",
       "      <td>2</td>\n",
       "      <td>4</td>\n",
       "      <td>2</td>\n",
       "      <td>1</td>\n",
       "      <td>8</td>\n",
       "      <td>3</td>\n",
       "      <td>3</td>\n",
       "      <td>1</td>\n",
       "      <td>1</td>\n",
       "    </tr>\n",
       "  </tbody>\n",
       "</table>\n",
       "<p>5 rows × 357 columns</p>\n",
       "</div>"
      ],
      "text/plain": [
       "   yy1  y1      wgt  hhsex  age  agecl  educ  edcl  married  kids  ...  nwcat  \\\n",
       "0    1  11 3,027.96      2   70      5     9     3        2     2  ...      4   \n",
       "1    1  12 3,054.90      2   70      5     9     3        2     2  ...      4   \n",
       "2    1  13 3,163.64      2   70      5     9     3        2     2  ...      4   \n",
       "3    1  14 3,166.23      2   70      5     9     3        2     2  ...      3   \n",
       "4    1  15 3,235.62      2   70      5     9     3        2     2  ...      3   \n",
       "\n",
       "   inccat  assetcat  ninccat  ninc2cat  nwpctlecat  incpctlecat  nincpctlecat  \\\n",
       "0       2         4        2         1           8            3             3   \n",
       "1       2         5        2         1           8            3             3   \n",
       "2       2         4        2         1           8            3             3   \n",
       "3       2         4        1         1           6            3             2   \n",
       "4       2         4        2         1           8            3             3   \n",
       "\n",
       "   incqrtcat  nincqrtcat  \n",
       "0          2           1  \n",
       "1          2           1  \n",
       "2          1           1  \n",
       "3          1           1  \n",
       "4          1           1  \n",
       "\n",
       "[5 rows x 357 columns]"
      ]
     },
     "execution_count": 130,
     "metadata": {},
     "output_type": "execute_result"
    }
   ],
   "source": [
    "#Read data from url into a dataframe name scfe\n",
    "#View first 5 rows\n",
    "url = \"https://www.federalreserve.gov/econres/files/\"\n",
    "folder = \"scfp2022s.zip\"\n",
    "filename = \"rscfp2022.dta\"\n",
    "scfe = wrangle(url, folder, filename)\n",
    "scfe.head()"
   ]
  },
  {
   "cell_type": "markdown",
   "metadata": {},
   "source": [
    "This is a large dataset with almost 25,000 rows and 357 columns. At the same time, some index can be quite difficult to decipher and read. This [Codebook](https://sda.berkeley.edu/sdaweb/docs/scfcomb2022/DOC/hcbkfx0.htm) contains explanations for all the features. For this portfolio, we will only focus on *business owners* and some of the demographical and financial data. Some simple descriptive statistics can be found below."
   ]
  },
  {
   "cell_type": "code",
   "execution_count": 131,
   "metadata": {},
   "outputs": [
    {
     "name": "stdout",
     "output_type": "stream",
     "text": [
      "The shape of the data is: (22975, 357)\n"
     ]
    }
   ],
   "source": [
    "#Data shape\n",
    "print(f\"The shape of the data is: {scfe.shape}\")\n"
   ]
  },
  {
   "cell_type": "code",
   "execution_count": 132,
   "metadata": {},
   "outputs": [
    {
     "name": "stdout",
     "output_type": "stream",
     "text": [
      "Number of participants in the survey: 22,975\n",
      "Number of households represented in the survey: 131,306,389\n"
     ]
    }
   ],
   "source": [
    "#Descriptive information about the survey\n",
    "#Calculate weight to get at the number of households\n",
    "number = int(scfe[\"wgt\"].sum())\n",
    "print(f\"Number of participants in the survey: {len(scfe.index):,}\")\n",
    "print(f\"Number of households represented in the survey: {round(number,0):,}\")"
   ]
  },
  {
   "cell_type": "code",
   "execution_count": 133,
   "metadata": {},
   "outputs": [
    {
     "data": {
      "text/plain": [
       "(6386, 357)"
      ]
     },
     "execution_count": 133,
     "metadata": {},
     "output_type": "execute_result"
    }
   ],
   "source": [
    "#Mask data to only business owners\n",
    "#`hbus` is defined as \"Have active or nonactively managed business(es)\"\n",
    "scfe_bus = scfe[scfe[\"hbus\"] == 1]\n",
    "scfe_bus.head()\n",
    "scfe_bus.shape"
   ]
  },
  {
   "cell_type": "markdown",
   "metadata": {},
   "source": [
    "## Data processing"
   ]
  },
  {
   "cell_type": "markdown",
   "metadata": {},
   "source": [
    "As it is seen above, there is a column called **wgt** in the dataframe. This indicates that this is a weighted survey, with each column represent multiple households.\n",
    "\n",
    "Therefore, in order to perform exploratory data analysis, it is necessary to sample the data so that the calculation is meaningful. Using this [guide](https://github.com/sandiegodata-projects/insights.sandiegodata.org/blob/main/tutorial/GettingStartedwithSCF.ipynb), we will be able to extract a sample using the pands method `sample` to perform basic data analysis."
   ]
  },
  {
   "cell_type": "code",
   "execution_count": 134,
   "metadata": {
    "scrolled": true
   },
   "outputs": [],
   "source": [
    "#Create a dataframe that contains sampled data. For easy computational, we set sample size at 200k datapoints\n",
    "dfs = scfe.sample(int(2e5), replace=True, weights = scfe[\"wgt\"], random_state=42)"
   ]
  },
  {
   "cell_type": "code",
   "execution_count": 135,
   "metadata": {
    "scrolled": true
   },
   "outputs": [
    {
     "name": "stdout",
     "output_type": "stream",
     "text": [
      "The shape of the data is: (200000, 357)\n"
     ]
    }
   ],
   "source": [
    "#Data shape\n",
    "print(f\"The shape of the data is: {dfs.shape}\")"
   ]
  },
  {
   "cell_type": "code",
   "execution_count": 136,
   "metadata": {},
   "outputs": [
    {
     "name": "stdout",
     "output_type": "stream",
     "text": [
      "Null Values = False\n"
     ]
    }
   ],
   "source": [
    "#Checking for any null values and removing the null values\n",
    "print(f\"Null Values = {dfs.isnull().values.any()}\")"
   ]
  },
  {
   "cell_type": "markdown",
   "metadata": {},
   "source": [
    "## Exploratory Data Analysis"
   ]
  },
  {
   "cell_type": "markdown",
   "metadata": {},
   "source": [
    "We begin by looking at the mean and median networth, income and asset of the sampled households"
   ]
  },
  {
   "cell_type": "code",
   "execution_count": 137,
   "metadata": {
    "scrolled": true
   },
   "outputs": [
    {
     "data": {
      "text/html": [
       "<div>\n",
       "<style scoped>\n",
       "    .dataframe tbody tr th:only-of-type {\n",
       "        vertical-align: middle;\n",
       "    }\n",
       "\n",
       "    .dataframe tbody tr th {\n",
       "        vertical-align: top;\n",
       "    }\n",
       "\n",
       "    .dataframe thead th {\n",
       "        text-align: right;\n",
       "    }\n",
       "</style>\n",
       "<table border=\"1\" class=\"dataframe\">\n",
       "  <thead>\n",
       "    <tr style=\"text-align: right;\">\n",
       "      <th></th>\n",
       "      <th>mean_weighted</th>\n",
       "      <th>median_weighted</th>\n",
       "    </tr>\n",
       "  </thead>\n",
       "  <tbody>\n",
       "    <tr>\n",
       "      <th>networth</th>\n",
       "      <td>1,061,560.00</td>\n",
       "      <td>191,001.00</td>\n",
       "    </tr>\n",
       "    <tr>\n",
       "      <th>asset</th>\n",
       "      <td>1,187,862.00</td>\n",
       "      <td>331,200.00</td>\n",
       "    </tr>\n",
       "    <tr>\n",
       "      <th>income</th>\n",
       "      <td>142,508.00</td>\n",
       "      <td>70,259.00</td>\n",
       "    </tr>\n",
       "  </tbody>\n",
       "</table>\n",
       "</div>"
      ],
      "text/plain": [
       "          mean_weighted  median_weighted\n",
       "networth   1,061,560.00       191,001.00\n",
       "asset      1,187,862.00       331,200.00\n",
       "income       142,508.00        70,259.00"
      ]
     },
     "execution_count": 137,
     "metadata": {},
     "output_type": "execute_result"
    }
   ],
   "source": [
    "#Calculate weighted mean and median networth, income and asset of the sample\n",
    "my_features = [\"networth\",\"asset\", \"income\"]\n",
    "mean_weighted = round(dfs[my_features].mean(),0)\n",
    "median_weighted = round(dfs[my_features].median(),0)\n",
    "basic_stats = pd.concat([mean_weighted, median_weighted], axis=1, keys = [\"mean_weighted\", \"median_weighted\"])\n",
    "basic_stats\n"
   ]
  },
  {
   "cell_type": "markdown",
   "metadata": {},
   "source": [
    "The large differences between mean and median for some of the financial attributes show that there are a lot of variances in our data. This would be helpful for creating clusters later on. However, this could also indicate we have outliers in this dataset which need to be removed later on. "
   ]
  },
  {
   "cell_type": "markdown",
   "metadata": {},
   "source": [
    "For this portfolio, we will focus on business owners. These households are identified in the \"HBUS\" column, which is defined as \"Have active or nonactively managed business(es)\n",
    "\". "
   ]
  },
  {
   "cell_type": "code",
   "execution_count": 138,
   "metadata": {},
   "outputs": [
    {
     "data": {
      "text/html": [
       "<div>\n",
       "<style scoped>\n",
       "    .dataframe tbody tr th:only-of-type {\n",
       "        vertical-align: middle;\n",
       "    }\n",
       "\n",
       "    .dataframe tbody tr th {\n",
       "        vertical-align: top;\n",
       "    }\n",
       "\n",
       "    .dataframe thead th {\n",
       "        text-align: right;\n",
       "    }\n",
       "</style>\n",
       "<table border=\"1\" class=\"dataframe\">\n",
       "  <thead>\n",
       "    <tr style=\"text-align: right;\">\n",
       "      <th></th>\n",
       "      <th>yy1</th>\n",
       "      <th>y1</th>\n",
       "      <th>wgt</th>\n",
       "      <th>hhsex</th>\n",
       "      <th>age</th>\n",
       "      <th>agecl</th>\n",
       "      <th>educ</th>\n",
       "      <th>edcl</th>\n",
       "      <th>married</th>\n",
       "      <th>kids</th>\n",
       "      <th>...</th>\n",
       "      <th>nwcat</th>\n",
       "      <th>inccat</th>\n",
       "      <th>assetcat</th>\n",
       "      <th>ninccat</th>\n",
       "      <th>ninc2cat</th>\n",
       "      <th>nwpctlecat</th>\n",
       "      <th>incpctlecat</th>\n",
       "      <th>nincpctlecat</th>\n",
       "      <th>incqrtcat</th>\n",
       "      <th>nincqrtcat</th>\n",
       "    </tr>\n",
       "  </thead>\n",
       "  <tbody>\n",
       "    <tr>\n",
       "      <th>19158</th>\n",
       "      <td>3839</td>\n",
       "      <td>38394</td>\n",
       "      <td>6,704.88</td>\n",
       "      <td>1</td>\n",
       "      <td>30</td>\n",
       "      <td>1</td>\n",
       "      <td>11</td>\n",
       "      <td>3</td>\n",
       "      <td>1</td>\n",
       "      <td>0</td>\n",
       "      <td>...</td>\n",
       "      <td>3</td>\n",
       "      <td>4</td>\n",
       "      <td>3</td>\n",
       "      <td>4</td>\n",
       "      <td>2</td>\n",
       "      <td>7</td>\n",
       "      <td>7</td>\n",
       "      <td>7</td>\n",
       "      <td>3</td>\n",
       "      <td>3</td>\n",
       "    </tr>\n",
       "    <tr>\n",
       "      <th>13752</th>\n",
       "      <td>2756</td>\n",
       "      <td>27563</td>\n",
       "      <td>8,605.92</td>\n",
       "      <td>1</td>\n",
       "      <td>45</td>\n",
       "      <td>3</td>\n",
       "      <td>4</td>\n",
       "      <td>1</td>\n",
       "      <td>1</td>\n",
       "      <td>10</td>\n",
       "      <td>...</td>\n",
       "      <td>1</td>\n",
       "      <td>2</td>\n",
       "      <td>1</td>\n",
       "      <td>2</td>\n",
       "      <td>1</td>\n",
       "      <td>3</td>\n",
       "      <td>4</td>\n",
       "      <td>4</td>\n",
       "      <td>2</td>\n",
       "      <td>2</td>\n",
       "    </tr>\n",
       "    <tr>\n",
       "      <th>4032</th>\n",
       "      <td>810</td>\n",
       "      <td>8103</td>\n",
       "      <td>17,405.51</td>\n",
       "      <td>1</td>\n",
       "      <td>81</td>\n",
       "      <td>6</td>\n",
       "      <td>10</td>\n",
       "      <td>3</td>\n",
       "      <td>1</td>\n",
       "      <td>0</td>\n",
       "      <td>...</td>\n",
       "      <td>3</td>\n",
       "      <td>3</td>\n",
       "      <td>3</td>\n",
       "      <td>3</td>\n",
       "      <td>1</td>\n",
       "      <td>6</td>\n",
       "      <td>5</td>\n",
       "      <td>5</td>\n",
       "      <td>2</td>\n",
       "      <td>2</td>\n",
       "    </tr>\n",
       "    <tr>\n",
       "      <th>22231</th>\n",
       "      <td>4455</td>\n",
       "      <td>44552</td>\n",
       "      <td>13,916.53</td>\n",
       "      <td>1</td>\n",
       "      <td>64</td>\n",
       "      <td>4</td>\n",
       "      <td>8</td>\n",
       "      <td>2</td>\n",
       "      <td>1</td>\n",
       "      <td>0</td>\n",
       "      <td>...</td>\n",
       "      <td>3</td>\n",
       "      <td>2</td>\n",
       "      <td>4</td>\n",
       "      <td>2</td>\n",
       "      <td>1</td>\n",
       "      <td>8</td>\n",
       "      <td>4</td>\n",
       "      <td>4</td>\n",
       "      <td>2</td>\n",
       "      <td>2</td>\n",
       "    </tr>\n",
       "    <tr>\n",
       "      <th>2293</th>\n",
       "      <td>460</td>\n",
       "      <td>4604</td>\n",
       "      <td>7,985.99</td>\n",
       "      <td>1</td>\n",
       "      <td>63</td>\n",
       "      <td>4</td>\n",
       "      <td>12</td>\n",
       "      <td>4</td>\n",
       "      <td>1</td>\n",
       "      <td>1</td>\n",
       "      <td>...</td>\n",
       "      <td>1</td>\n",
       "      <td>2</td>\n",
       "      <td>1</td>\n",
       "      <td>2</td>\n",
       "      <td>1</td>\n",
       "      <td>2</td>\n",
       "      <td>3</td>\n",
       "      <td>4</td>\n",
       "      <td>2</td>\n",
       "      <td>2</td>\n",
       "    </tr>\n",
       "  </tbody>\n",
       "</table>\n",
       "<p>5 rows × 357 columns</p>\n",
       "</div>"
      ],
      "text/plain": [
       "        yy1     y1       wgt  hhsex  age  agecl  educ  edcl  married  kids  \\\n",
       "19158  3839  38394  6,704.88      1   30      1    11     3        1     0   \n",
       "13752  2756  27563  8,605.92      1   45      3     4     1        1    10   \n",
       "4032    810   8103 17,405.51      1   81      6    10     3        1     0   \n",
       "22231  4455  44552 13,916.53      1   64      4     8     2        1     0   \n",
       "2293    460   4604  7,985.99      1   63      4    12     4        1     1   \n",
       "\n",
       "       ...  nwcat  inccat  assetcat  ninccat  ninc2cat  nwpctlecat  \\\n",
       "19158  ...      3       4         3        4         2           7   \n",
       "13752  ...      1       2         1        2         1           3   \n",
       "4032   ...      3       3         3        3         1           6   \n",
       "22231  ...      3       2         4        2         1           8   \n",
       "2293   ...      1       2         1        2         1           2   \n",
       "\n",
       "       incpctlecat  nincpctlecat  incqrtcat  nincqrtcat  \n",
       "19158            7             7          3           3  \n",
       "13752            4             4          2           2  \n",
       "4032             5             5          2           2  \n",
       "22231            4             4          2           2  \n",
       "2293             3             4          2           2  \n",
       "\n",
       "[5 rows x 357 columns]"
      ]
     },
     "execution_count": 138,
     "metadata": {},
     "output_type": "execute_result"
    }
   ],
   "source": [
    "#subset data to only business owners\n",
    "dfs_bus = dfs[dfs[\"hbus\"] == 1]\n",
    "dfs_bus.head()"
   ]
  },
  {
   "cell_type": "code",
   "execution_count": 139,
   "metadata": {},
   "outputs": [
    {
     "data": {
      "text/html": [
       "<div>\n",
       "<style scoped>\n",
       "    .dataframe tbody tr th:only-of-type {\n",
       "        vertical-align: middle;\n",
       "    }\n",
       "\n",
       "    .dataframe tbody tr th {\n",
       "        vertical-align: top;\n",
       "    }\n",
       "\n",
       "    .dataframe thead th {\n",
       "        text-align: right;\n",
       "    }\n",
       "</style>\n",
       "<table border=\"1\" class=\"dataframe\">\n",
       "  <thead>\n",
       "    <tr style=\"text-align: right;\">\n",
       "      <th></th>\n",
       "      <th>yy1</th>\n",
       "      <th>y1</th>\n",
       "      <th>wgt</th>\n",
       "      <th>hhsex</th>\n",
       "      <th>age</th>\n",
       "      <th>agecl</th>\n",
       "      <th>educ</th>\n",
       "      <th>edcl</th>\n",
       "      <th>married</th>\n",
       "      <th>kids</th>\n",
       "      <th>...</th>\n",
       "      <th>nwcat</th>\n",
       "      <th>inccat</th>\n",
       "      <th>assetcat</th>\n",
       "      <th>ninccat</th>\n",
       "      <th>ninc2cat</th>\n",
       "      <th>nwpctlecat</th>\n",
       "      <th>incpctlecat</th>\n",
       "      <th>nincpctlecat</th>\n",
       "      <th>incqrtcat</th>\n",
       "      <th>nincqrtcat</th>\n",
       "    </tr>\n",
       "  </thead>\n",
       "  <tbody>\n",
       "    <tr>\n",
       "      <th>count</th>\n",
       "      <td>28,813.00</td>\n",
       "      <td>28,813.00</td>\n",
       "      <td>28,813.00</td>\n",
       "      <td>28,813.00</td>\n",
       "      <td>28,813.00</td>\n",
       "      <td>28,813.00</td>\n",
       "      <td>28,813.00</td>\n",
       "      <td>28,813.00</td>\n",
       "      <td>28,813.00</td>\n",
       "      <td>28,813.00</td>\n",
       "      <td>...</td>\n",
       "      <td>28,813.00</td>\n",
       "      <td>28,813.00</td>\n",
       "      <td>28,813.00</td>\n",
       "      <td>28,813.00</td>\n",
       "      <td>28,813.00</td>\n",
       "      <td>28,813.00</td>\n",
       "      <td>28,813.00</td>\n",
       "      <td>28,813.00</td>\n",
       "      <td>28,813.00</td>\n",
       "      <td>28,813.00</td>\n",
       "    </tr>\n",
       "    <tr>\n",
       "      <th>mean</th>\n",
       "      <td>2,285.77</td>\n",
       "      <td>22,860.67</td>\n",
       "      <td>8,559.82</td>\n",
       "      <td>1.10</td>\n",
       "      <td>52.24</td>\n",
       "      <td>3.26</td>\n",
       "      <td>10.97</td>\n",
       "      <td>3.35</td>\n",
       "      <td>1.23</td>\n",
       "      <td>0.87</td>\n",
       "      <td>...</td>\n",
       "      <td>3.57</td>\n",
       "      <td>4.09</td>\n",
       "      <td>4.36</td>\n",
       "      <td>4.18</td>\n",
       "      <td>2.04</td>\n",
       "      <td>7.78</td>\n",
       "      <td>7.38</td>\n",
       "      <td>7.59</td>\n",
       "      <td>3.12</td>\n",
       "      <td>3.19</td>\n",
       "    </tr>\n",
       "    <tr>\n",
       "      <th>std</th>\n",
       "      <td>1,287.45</td>\n",
       "      <td>12,874.50</td>\n",
       "      <td>5,386.31</td>\n",
       "      <td>0.30</td>\n",
       "      <td>15.34</td>\n",
       "      <td>1.50</td>\n",
       "      <td>2.34</td>\n",
       "      <td>0.89</td>\n",
       "      <td>0.42</td>\n",
       "      <td>1.26</td>\n",
       "      <td>...</td>\n",
       "      <td>1.30</td>\n",
       "      <td>1.64</td>\n",
       "      <td>1.52</td>\n",
       "      <td>1.58</td>\n",
       "      <td>0.75</td>\n",
       "      <td>2.88</td>\n",
       "      <td>3.04</td>\n",
       "      <td>2.90</td>\n",
       "      <td>1.06</td>\n",
       "      <td>1.00</td>\n",
       "    </tr>\n",
       "    <tr>\n",
       "      <th>min</th>\n",
       "      <td>2.00</td>\n",
       "      <td>24.00</td>\n",
       "      <td>2.87</td>\n",
       "      <td>1.00</td>\n",
       "      <td>22.00</td>\n",
       "      <td>1.00</td>\n",
       "      <td>2.00</td>\n",
       "      <td>1.00</td>\n",
       "      <td>1.00</td>\n",
       "      <td>0.00</td>\n",
       "      <td>...</td>\n",
       "      <td>1.00</td>\n",
       "      <td>1.00</td>\n",
       "      <td>1.00</td>\n",
       "      <td>1.00</td>\n",
       "      <td>1.00</td>\n",
       "      <td>1.00</td>\n",
       "      <td>1.00</td>\n",
       "      <td>1.00</td>\n",
       "      <td>1.00</td>\n",
       "      <td>1.00</td>\n",
       "    </tr>\n",
       "    <tr>\n",
       "      <th>25%</th>\n",
       "      <td>1,249.00</td>\n",
       "      <td>12,495.00</td>\n",
       "      <td>4,006.59</td>\n",
       "      <td>1.00</td>\n",
       "      <td>39.00</td>\n",
       "      <td>2.00</td>\n",
       "      <td>9.00</td>\n",
       "      <td>3.00</td>\n",
       "      <td>1.00</td>\n",
       "      <td>0.00</td>\n",
       "      <td>...</td>\n",
       "      <td>3.00</td>\n",
       "      <td>3.00</td>\n",
       "      <td>3.00</td>\n",
       "      <td>3.00</td>\n",
       "      <td>1.00</td>\n",
       "      <td>6.00</td>\n",
       "      <td>5.00</td>\n",
       "      <td>5.00</td>\n",
       "      <td>2.00</td>\n",
       "      <td>2.00</td>\n",
       "    </tr>\n",
       "    <tr>\n",
       "      <th>50%</th>\n",
       "      <td>2,353.00</td>\n",
       "      <td>23,532.00</td>\n",
       "      <td>8,071.75</td>\n",
       "      <td>1.00</td>\n",
       "      <td>53.00</td>\n",
       "      <td>3.00</td>\n",
       "      <td>12.00</td>\n",
       "      <td>4.00</td>\n",
       "      <td>1.00</td>\n",
       "      <td>0.00</td>\n",
       "      <td>...</td>\n",
       "      <td>4.00</td>\n",
       "      <td>4.00</td>\n",
       "      <td>5.00</td>\n",
       "      <td>4.00</td>\n",
       "      <td>2.00</td>\n",
       "      <td>8.00</td>\n",
       "      <td>8.00</td>\n",
       "      <td>8.00</td>\n",
       "      <td>4.00</td>\n",
       "      <td>4.00</td>\n",
       "    </tr>\n",
       "    <tr>\n",
       "      <th>75%</th>\n",
       "      <td>3,281.00</td>\n",
       "      <td>32,814.00</td>\n",
       "      <td>11,425.29</td>\n",
       "      <td>1.00</td>\n",
       "      <td>64.00</td>\n",
       "      <td>4.00</td>\n",
       "      <td>13.00</td>\n",
       "      <td>4.00</td>\n",
       "      <td>1.00</td>\n",
       "      <td>2.00</td>\n",
       "      <td>...</td>\n",
       "      <td>5.00</td>\n",
       "      <td>6.00</td>\n",
       "      <td>6.00</td>\n",
       "      <td>6.00</td>\n",
       "      <td>3.00</td>\n",
       "      <td>10.00</td>\n",
       "      <td>10.00</td>\n",
       "      <td>10.00</td>\n",
       "      <td>4.00</td>\n",
       "      <td>4.00</td>\n",
       "    </tr>\n",
       "    <tr>\n",
       "      <th>max</th>\n",
       "      <td>4,601.00</td>\n",
       "      <td>46,015.00</td>\n",
       "      <td>24,145.61</td>\n",
       "      <td>2.00</td>\n",
       "      <td>95.00</td>\n",
       "      <td>6.00</td>\n",
       "      <td>14.00</td>\n",
       "      <td>4.00</td>\n",
       "      <td>2.00</td>\n",
       "      <td>10.00</td>\n",
       "      <td>...</td>\n",
       "      <td>5.00</td>\n",
       "      <td>6.00</td>\n",
       "      <td>6.00</td>\n",
       "      <td>6.00</td>\n",
       "      <td>3.00</td>\n",
       "      <td>12.00</td>\n",
       "      <td>12.00</td>\n",
       "      <td>12.00</td>\n",
       "      <td>4.00</td>\n",
       "      <td>4.00</td>\n",
       "    </tr>\n",
       "  </tbody>\n",
       "</table>\n",
       "<p>8 rows × 357 columns</p>\n",
       "</div>"
      ],
      "text/plain": [
       "            yy1        y1       wgt     hhsex       age     agecl      educ  \\\n",
       "count 28,813.00 28,813.00 28,813.00 28,813.00 28,813.00 28,813.00 28,813.00   \n",
       "mean   2,285.77 22,860.67  8,559.82      1.10     52.24      3.26     10.97   \n",
       "std    1,287.45 12,874.50  5,386.31      0.30     15.34      1.50      2.34   \n",
       "min        2.00     24.00      2.87      1.00     22.00      1.00      2.00   \n",
       "25%    1,249.00 12,495.00  4,006.59      1.00     39.00      2.00      9.00   \n",
       "50%    2,353.00 23,532.00  8,071.75      1.00     53.00      3.00     12.00   \n",
       "75%    3,281.00 32,814.00 11,425.29      1.00     64.00      4.00     13.00   \n",
       "max    4,601.00 46,015.00 24,145.61      2.00     95.00      6.00     14.00   \n",
       "\n",
       "           edcl   married      kids  ...     nwcat    inccat  assetcat  \\\n",
       "count 28,813.00 28,813.00 28,813.00  ... 28,813.00 28,813.00 28,813.00   \n",
       "mean       3.35      1.23      0.87  ...      3.57      4.09      4.36   \n",
       "std        0.89      0.42      1.26  ...      1.30      1.64      1.52   \n",
       "min        1.00      1.00      0.00  ...      1.00      1.00      1.00   \n",
       "25%        3.00      1.00      0.00  ...      3.00      3.00      3.00   \n",
       "50%        4.00      1.00      0.00  ...      4.00      4.00      5.00   \n",
       "75%        4.00      1.00      2.00  ...      5.00      6.00      6.00   \n",
       "max        4.00      2.00     10.00  ...      5.00      6.00      6.00   \n",
       "\n",
       "        ninccat  ninc2cat  nwpctlecat  incpctlecat  nincpctlecat  incqrtcat  \\\n",
       "count 28,813.00 28,813.00   28,813.00    28,813.00     28,813.00  28,813.00   \n",
       "mean       4.18      2.04        7.78         7.38          7.59       3.12   \n",
       "std        1.58      0.75        2.88         3.04          2.90       1.06   \n",
       "min        1.00      1.00        1.00         1.00          1.00       1.00   \n",
       "25%        3.00      1.00        6.00         5.00          5.00       2.00   \n",
       "50%        4.00      2.00        8.00         8.00          8.00       4.00   \n",
       "75%        6.00      3.00       10.00        10.00         10.00       4.00   \n",
       "max        6.00      3.00       12.00        12.00         12.00       4.00   \n",
       "\n",
       "       nincqrtcat  \n",
       "count   28,813.00  \n",
       "mean         3.19  \n",
       "std          1.00  \n",
       "min          1.00  \n",
       "25%          2.00  \n",
       "50%          4.00  \n",
       "75%          4.00  \n",
       "max          4.00  \n",
       "\n",
       "[8 rows x 357 columns]"
      ]
     },
     "execution_count": 139,
     "metadata": {},
     "output_type": "execute_result"
    }
   ],
   "source": [
    "#Descriptive statistics\n",
    "dfs_bus.describe()"
   ]
  },
  {
   "cell_type": "markdown",
   "metadata": {},
   "source": [
    "### Age"
   ]
  },
  {
   "cell_type": "markdown",
   "metadata": {},
   "source": [
    "Comment: The majority of business owners seem to be within the 50-70 age range. Where as for the population as a whole, there seems to be 2 major age groups: between 30-40 and 50-70. This makes sense since these are the working age. As people grow older, they seem to relenquish their roles in the business. "
   ]
  },
  {
   "cell_type": "code",
   "execution_count": 140,
   "metadata": {},
   "outputs": [
    {
     "data": {
      "image/png": "[encoded data removed]",
      "text/plain": [
       "<Figure size 864x432 with 2 Axes>"
      ]
     },
     "metadata": {
      "needs_background": "light"
     },
     "output_type": "display_data"
    }
   ],
   "source": [
    "#Histogram of age for business owners and non-business owners\n",
    "fig, axes = plt.subplots(nrows=1, ncols=2, figsize=(12, 6))\n",
    "axes[0].hist(dfs_bus[\"age\"], bins=10, color=\"#2c69b0\")\n",
    "axes[0].set(title=\"Business Owners: Age Distribution\", xlabel=\"Age\", ylabel=\"Frequency\")\n",
    "axes[1].hist(dfs[\"age\"], bins=10, color=\"#b5c8e2\")\n",
    "axes[1].set(title=\"Non-Business Owners: Age Distribution\", xlabel=\"Age\",ylabel=\"Frequency\")\n",
    "fig.tight_layout()\n",
    "plt.show();"
   ]
  },
  {
   "cell_type": "markdown",
   "metadata": {},
   "source": [
    "### Race"
   ]
  },
  {
   "cell_type": "markdown",
   "metadata": {},
   "source": [
    "Comment: The majority of population in the US is White and this explains to some degree why almost 70% of business owners are White. "
   ]
  },
  {
   "cell_type": "code",
   "execution_count": 141,
   "metadata": {},
   "outputs": [
    {
     "data": {
      "image/png": "[encoded data removed]",
      "text/plain": [
       "<Figure size 432x288 with 2 Axes>"
      ]
     },
     "metadata": {
      "needs_background": "light"
     },
     "output_type": "display_data"
    }
   ],
   "source": [
    "#Create a dictionary to store key-value pairs of race classification\n",
    "race_dict = {\n",
    "    1: \"White, non-mixed race\",\n",
    "    2: \"Black/African-American, non-mixed race\",\n",
    "    3: \"Hispanic/Latino, non-mixed race\",\n",
    "    4: \"Asian, non-mixed race\",\n",
    "    5: \"Other\"\n",
    "}\n",
    "#Replace numbers with actual title\n",
    "race = dfs_bus[\"racecl5\"].replace(race_dict).value_counts(normalize=True)\n",
    "race_pop = race = dfs[\"racecl5\"].replace(race_dict).value_counts(normalize=True)\n",
    "# Create bar chart of race_value_counts\n",
    "fig, (ax1, ax2) = plt.subplots(1, 2)\n",
    "ax1= race.plot(kind=\"barh\", color=\"#2c69b0\", ax=ax1)\n",
    "ax1.set(title=\"Business Owners: Racial Distribution\", xlabel=\"Frequency(%)\", ylabel=\"Race\")\n",
    "ax1.set_xlim(0,1)\n",
    "ax2 = race_pop.plot(kind=\"barh\", color=\"#b5c8e2\", ax=ax2)\n",
    "ax2.set(title=\"US Population: Racial Distribution\", xlabel=\"Frequency(%)\",ylabel=\"Race\")\n",
    "ax2.set_xlim(0,1)\n",
    "plt.subplots_adjust(left=0.2, right=2, wspace=1, hspace=1)\n",
    "plt.show();"
   ]
  },
  {
   "cell_type": "markdown",
   "metadata": {},
   "source": [
    "### Family"
   ]
  },
  {
   "cell_type": "markdown",
   "metadata": {},
   "source": [
    "We explore the family dynamics of business owners. Almost 80% of business owners are either married or with a partner. However, more than half of the business owners do not have kids in the households. While non-business owners also don't seem to have kids, they also don't seem to be in a relationship. "
   ]
  },
  {
   "cell_type": "code",
   "execution_count": 142,
   "metadata": {},
   "outputs": [
    {
     "data": {
      "image/png": "[encoded data removed]",
      "text/plain": [
       "<Figure size 432x288 with 1 Axes>"
      ]
     },
     "metadata": {
      "needs_background": "light"
     },
     "output_type": "display_data"
    }
   ],
   "source": [
    "#Create a dict to change variable name\n",
    "married_dict = {1: \"Married/With partner\", \n",
    "                2: \"Neither married nor with partner\"}\n",
    "\n",
    "dfs_married = dfs[\"married\"].replace(married_dict).groupby(dfs[\"hbus\"]).value_counts(normalize=True).rename(\"Frequency\").to_frame().reset_index()\n",
    "\n",
    "#Plot marital status\n",
    "sns.barplot(data=dfs_married, x=\"married\", y=\"Frequency\", hue=\"hbus\", palette=palette)\n",
    "plt.xlabel(\"Marital Status\")\n",
    "plt.ylabel(\"Frequency (%)\")\n",
    "plt.title(\"Marital Status: Business Owners vs. Non-owners\");"
   ]
  },
  {
   "cell_type": "code",
   "execution_count": 143,
   "metadata": {},
   "outputs": [
    {
     "data": {
      "image/png": "[encoded data removed]",
      "text/plain": [
       "<Figure size 432x288 with 1 Axes>"
      ]
     },
     "metadata": {
      "needs_background": "light"
     },
     "output_type": "display_data"
    }
   ],
   "source": [
    "#Number of kids for (non) business owners\n",
    "dfs_kids = dfs[\"kids\"].groupby(dfs[\"hbus\"]).value_counts(normalize=True).rename(\"Frequency\").to_frame().reset_index()\n",
    "#Plot\n",
    "sns.barplot(data=dfs_kids, x=\"kids\", y=\"Frequency\", hue=\"hbus\", palette=palette)\n",
    "plt.xlabel(\"Number of kids\")\n",
    "plt.ylabel(\"Frequency (%)\")\n",
    "plt.title(\"Kids in Households: Business Owners vs. Non-owners\");"
   ]
  },
  {
   "cell_type": "markdown",
   "metadata": {},
   "source": [
    "### Education"
   ]
  },
  {
   "cell_type": "markdown",
   "metadata": {},
   "source": [
    "In this plot, we can see that a much higher proportion of non-business owners respondents have only a high school diploma (group 8), while university degrees (group 12 onwards) are more common among the business owners. See [Codebook](https://sda.berkeley.edu/sdaweb/docs/scfcomb2022/DOC/hcbkfx0.htm) for detailed explanation of education level displayed. "
   ]
  },
  {
   "cell_type": "code",
   "execution_count": 144,
   "metadata": {},
   "outputs": [
    {
     "data": {
      "text/html": [
       "<div>\n",
       "<style scoped>\n",
       "    .dataframe tbody tr th:only-of-type {\n",
       "        vertical-align: middle;\n",
       "    }\n",
       "\n",
       "    .dataframe tbody tr th {\n",
       "        vertical-align: top;\n",
       "    }\n",
       "\n",
       "    .dataframe thead th {\n",
       "        text-align: right;\n",
       "    }\n",
       "</style>\n",
       "<table border=\"1\" class=\"dataframe\">\n",
       "  <thead>\n",
       "    <tr style=\"text-align: right;\">\n",
       "      <th></th>\n",
       "      <th>hbus</th>\n",
       "      <th>educ</th>\n",
       "      <th>Frequency</th>\n",
       "    </tr>\n",
       "  </thead>\n",
       "  <tbody>\n",
       "    <tr>\n",
       "      <th>0</th>\n",
       "      <td>0</td>\n",
       "      <td>8</td>\n",
       "      <td>0.25</td>\n",
       "    </tr>\n",
       "    <tr>\n",
       "      <th>1</th>\n",
       "      <td>0</td>\n",
       "      <td>12</td>\n",
       "      <td>0.23</td>\n",
       "    </tr>\n",
       "    <tr>\n",
       "      <th>2</th>\n",
       "      <td>0</td>\n",
       "      <td>9</td>\n",
       "      <td>0.16</td>\n",
       "    </tr>\n",
       "    <tr>\n",
       "      <th>3</th>\n",
       "      <td>0</td>\n",
       "      <td>13</td>\n",
       "      <td>0.10</td>\n",
       "    </tr>\n",
       "    <tr>\n",
       "      <th>4</th>\n",
       "      <td>0</td>\n",
       "      <td>10</td>\n",
       "      <td>0.07</td>\n",
       "    </tr>\n",
       "  </tbody>\n",
       "</table>\n",
       "</div>"
      ],
      "text/plain": [
       "   hbus  educ  Frequency\n",
       "0     0     8       0.25\n",
       "1     0    12       0.23\n",
       "2     0     9       0.16\n",
       "3     0    13       0.10\n",
       "4     0    10       0.07"
      ]
     },
     "execution_count": 144,
     "metadata": {},
     "output_type": "execute_result"
    }
   ],
   "source": [
    "#Create dataframe for normalized freq for education categories\n",
    "dfs_edu = dfs[\"educ\"].groupby(dfs[\"hbus\"]).value_counts(normalize=True).rename(\"Frequency\").to_frame().reset_index()\n",
    "dfs_edu.head()"
   ]
  },
  {
   "cell_type": "code",
   "execution_count": 145,
   "metadata": {},
   "outputs": [
    {
     "data": {
      "image/png": "[encoded data removed]",
      "text/plain": [
       "<Figure size 432x288 with 1 Axes>"
      ]
     },
     "metadata": {
      "needs_background": "light"
     },
     "output_type": "display_data"
    }
   ],
   "source": [
    "#visualize the \"dfs_edu\" dataframe\n",
    "sns.barplot(data=dfs_edu, x=\"educ\", y=\"Frequency\", hue=\"hbus\", palette=palette)\n",
    "plt.xlabel(\"Education Level\")\n",
    "plt.ylabel(\"Frequency (%)\")\n",
    "plt.title(\"Educational Attainment: Business Owners vs. Non-owners\");"
   ]
  },
  {
   "cell_type": "markdown",
   "metadata": {},
   "source": [
    "### Income"
   ]
  },
  {
   "cell_type": "markdown",
   "metadata": {},
   "source": [
    "Comment: Comparing the subgroup of business owners to the whole population shows that business owners seem to be more common in the higher income group. Whereas the distribution of income categories for the population is more heavily towards low-mid income."
   ]
  },
  {
   "cell_type": "code",
   "execution_count": 146,
   "metadata": {},
   "outputs": [
    {
     "data": {
      "text/html": [
       "<div>\n",
       "<style scoped>\n",
       "    .dataframe tbody tr th:only-of-type {\n",
       "        vertical-align: middle;\n",
       "    }\n",
       "\n",
       "    .dataframe tbody tr th {\n",
       "        vertical-align: top;\n",
       "    }\n",
       "\n",
       "    .dataframe thead th {\n",
       "        text-align: right;\n",
       "    }\n",
       "</style>\n",
       "<table border=\"1\" class=\"dataframe\">\n",
       "  <thead>\n",
       "    <tr style=\"text-align: right;\">\n",
       "      <th></th>\n",
       "      <th>hbus</th>\n",
       "      <th>inccat</th>\n",
       "      <th>Frequency</th>\n",
       "    </tr>\n",
       "  </thead>\n",
       "  <tbody>\n",
       "    <tr>\n",
       "      <th>0</th>\n",
       "      <td>0</td>\n",
       "      <td>0-20</td>\n",
       "      <td>0.22</td>\n",
       "    </tr>\n",
       "    <tr>\n",
       "      <th>1</th>\n",
       "      <td>0</td>\n",
       "      <td>20-39.9</td>\n",
       "      <td>0.21</td>\n",
       "    </tr>\n",
       "    <tr>\n",
       "      <th>2</th>\n",
       "      <td>0</td>\n",
       "      <td>40-59.9</td>\n",
       "      <td>0.21</td>\n",
       "    </tr>\n",
       "    <tr>\n",
       "      <th>3</th>\n",
       "      <td>0</td>\n",
       "      <td>60-79.9</td>\n",
       "      <td>0.20</td>\n",
       "    </tr>\n",
       "    <tr>\n",
       "      <th>4</th>\n",
       "      <td>0</td>\n",
       "      <td>80-89.9</td>\n",
       "      <td>0.09</td>\n",
       "    </tr>\n",
       "    <tr>\n",
       "      <th>5</th>\n",
       "      <td>0</td>\n",
       "      <td>90-100</td>\n",
       "      <td>0.07</td>\n",
       "    </tr>\n",
       "    <tr>\n",
       "      <th>6</th>\n",
       "      <td>1</td>\n",
       "      <td>90-100</td>\n",
       "      <td>0.29</td>\n",
       "    </tr>\n",
       "    <tr>\n",
       "      <th>7</th>\n",
       "      <td>1</td>\n",
       "      <td>60-79.9</td>\n",
       "      <td>0.21</td>\n",
       "    </tr>\n",
       "    <tr>\n",
       "      <th>8</th>\n",
       "      <td>1</td>\n",
       "      <td>80-89.9</td>\n",
       "      <td>0.16</td>\n",
       "    </tr>\n",
       "    <tr>\n",
       "      <th>9</th>\n",
       "      <td>1</td>\n",
       "      <td>40-59.9</td>\n",
       "      <td>0.14</td>\n",
       "    </tr>\n",
       "    <tr>\n",
       "      <th>10</th>\n",
       "      <td>1</td>\n",
       "      <td>20-39.9</td>\n",
       "      <td>0.12</td>\n",
       "    </tr>\n",
       "    <tr>\n",
       "      <th>11</th>\n",
       "      <td>1</td>\n",
       "      <td>0-20</td>\n",
       "      <td>0.09</td>\n",
       "    </tr>\n",
       "  </tbody>\n",
       "</table>\n",
       "</div>"
      ],
      "text/plain": [
       "    hbus   inccat  Frequency\n",
       "0      0     0-20       0.22\n",
       "1      0  20-39.9       0.21\n",
       "2      0  40-59.9       0.21\n",
       "3      0  60-79.9       0.20\n",
       "4      0  80-89.9       0.09\n",
       "5      0   90-100       0.07\n",
       "6      1   90-100       0.29\n",
       "7      1  60-79.9       0.21\n",
       "8      1  80-89.9       0.16\n",
       "9      1  40-59.9       0.14\n",
       "10     1  20-39.9       0.12\n",
       "11     1     0-20       0.09"
      ]
     },
     "execution_count": 146,
     "metadata": {},
     "output_type": "execute_result"
    }
   ],
   "source": [
    "#normalize frequency for income categories for both business owners and non-owners\n",
    "inccat_dict = {\n",
    "    1: \"0-20\",\n",
    "    2: \"20-39.9\",\n",
    "    3: \"40-59.9\",\n",
    "    4: \"60-79.9\",\n",
    "    5: \"80-89.9\",\n",
    "    6: \"90-100\",\n",
    "}\n",
    "#Create dataframe to store frequency of income category for (non) business owners\n",
    "dfs_inccat = (dfs[\"inccat\"]\n",
    "            .replace(inccat_dict).groupby(dfs[\"hbus\"]).value_counts(normalize=True)\n",
    "            .rename(\"Frequency\").to_frame().reset_index())\n",
    "#dfs_inccat.style.format({'Frequency': '{:,.2f}'.format,})\n",
    "dfs_inccat"
   ]
  },
  {
   "cell_type": "code",
   "execution_count": 147,
   "metadata": {},
   "outputs": [
    {
     "data": {
      "image/png": "[encoded data removed]",
      "text/plain": [
       "<Figure size 432x288 with 1 Axes>"
      ]
     },
     "metadata": {
      "needs_background": "light"
     },
     "output_type": "display_data"
    }
   ],
   "source": [
    "# Create bar chart of \"df_inccat\"\n",
    "sns.barplot(data=dfs_inccat, x=\"inccat\", y=\"Frequency\", hue=\"hbus\", palette=palette, order=inccat_dict.values())\n",
    "plt.xlabel(\"Income Category Percentile\")\n",
    "plt.ylabel(\"Frequency (%)\")\n",
    "plt.title(\"Income Distribution: Business Owners vs. Non-owners\");"
   ]
  },
  {
   "cell_type": "markdown",
   "metadata": {},
   "source": [
    "### Asset"
   ]
  },
  {
   "cell_type": "markdown",
   "metadata": {},
   "source": [
    "Comment: We explore asset allocation by different networth groups. For business owners, the group with the highest net worth percentile (Group 12) tend to rely on the value of their business to boost networth as well as other assets (such as pensions incomes, IRA Roths, etc). While for most other groups, networth is mostly madae up of residential equity and vehicles ownership. "
   ]
  },
  {
   "cell_type": "code",
   "execution_count": 148,
   "metadata": {},
   "outputs": [],
   "source": [
    "#Dictionary to display name of assets\n",
    "asset = {\"asset\": \"Total Asset\",\n",
    "         \"nnresre\": \"Non-Residential Real Estate\",\n",
    "         \"houses\": \"Primary Residence\",\n",
    "         \"vehic\": \"Vehicles\",\n",
    "         \"prepaid\": \"Prepaid Cards\",\n",
    "         \"othfin\": \"Other Financial Assets\",\n",
    "         \"othnfin\": \"Other Nonfinancial Assets\",\n",
    "         \"actbus\": \"Business Interest\",\n",
    "         \"cashli\": \"Life Insurance\",\n",
    "         \"currpen\": \"Pension\", \n",
    "         \"deq\": \"Stocks and Funds\",\n",
    "         \"cds\": \"Certificate of Deposits\",\n",
    "}\n",
    "#Get key of dict\n",
    "key_asset = list(asset.keys())"
   ]
  },
  {
   "cell_type": "code",
   "execution_count": 149,
   "metadata": {},
   "outputs": [],
   "source": [
    "#Calculate asset allocation \n",
    "allocation = pd.DataFrame(dfs_bus.groupby(\"nwpctlecat\")[key_asset].sum())\n",
    "allocation.iloc[:,0:17] = allocation.iloc[:,0:17].div(allocation.iloc[:,0], axis=0)\n",
    "#Create \"other\" column\n",
    "allocation[\"sum\"] = allocation[key_asset[1:]].sum(axis=1)\n",
    "allocation[\"other\"] = allocation[\"asset\"] - allocation[\"sum\"]\n",
    "allocation.drop(columns=[\"sum\"], inplace=True)\n",
    "allocation=allocation.reset_index()\n",
    "#update asset \n",
    "asset[\"other\"] = \"Other\"\n",
    "key_asset = list(asset.keys())\n",
    "key_values = list(asset.values())"
   ]
  },
  {
   "cell_type": "code",
   "execution_count": 150,
   "metadata": {},
   "outputs": [
    {
     "data": {
      "text/plain": [
       "<Figure size 1152x576 with 0 Axes>"
      ]
     },
     "metadata": {},
     "output_type": "display_data"
    },
    {
     "data": {
      "image/png": "[encoded data removed]",
      "text/plain": [
       "<Figure size 432x288 with 1 Axes>"
      ]
     },
     "metadata": {
      "needs_background": "light"
     },
     "output_type": "display_data"
    }
   ],
   "source": [
    "#Visualize allocation\n",
    "fig = plt.figure(figsize=(16,8))\n",
    "allocation[key_asset[1:]].plot(kind=\"bar\", stacked=True, width=0.7,color=palette)\n",
    "plt.legend(bbox_to_anchor = (1,1), labels=key_values[1:], fontsize=12)\n",
    "plt.xticks(rotation=0)\n",
    "plt.xticks(allocation.index, allocation[\"nwpctlecat\"].values)\n",
    "plt.ylabel(\"Allocation(%)\", fontsize = 12)\n",
    "plt.xlabel(\"Networth Percentile Group\", fontsize = 12)\n",
    "plt.title(\"Asset Allocation by Networth Percentile for business owners\",fontsize = 12)\n",
    "#plt.legend(bbox_to_anchor = (1,1), fontsize=12)\n",
    "plt.show();"
   ]
  },
  {
   "cell_type": "markdown",
   "metadata": {},
   "source": [
    "## Feature selection"
   ]
  },
  {
   "cell_type": "markdown",
   "metadata": {},
   "source": [
    "The data analysis above shows that the profile of clusters of investors could be built by selecting both financial and demographical features. We can perform feature selection by using domain knowledge. "
   ]
  },
  {
   "cell_type": "markdown",
   "metadata": {},
   "source": [
    "### Financial features"
   ]
  },
  {
   "cell_type": "markdown",
   "metadata": {},
   "source": [
    "To select financial features, it would make sense to select numerical features that have high variance as they would lead to better clustering. The distinction would encourage natural grouping. However, as it is shown below, a number of the wealth indicators are highly skewed with outliers having a lot of wealth. Therefore, we will use trimmed variance, which means removing extreme values before calculating variance. We implement this by making use of the `trimmed_variance` function from the scipy library. "
   ]
  },
  {
   "cell_type": "code",
   "execution_count": 151,
   "metadata": {},
   "outputs": [
    {
     "data": {
      "image/png": "[encoded data removed]",
      "text/plain": [
       "<Figure size 432x288 with 2 Axes>"
      ]
     },
     "metadata": {
      "needs_background": "light"
     },
     "output_type": "display_data"
    }
   ],
   "source": [
    "#Calculate variance, get 15 largest features\n",
    "#Plot the 15 largest features\n",
    "fig, (ax1, ax2) = plt.subplots(1, 2)\n",
    "top_ten_var = dfs.var().nlargest(15)\n",
    "ax1= top_ten_var.plot(kind=\"bar\", color=\"#2c69b0\", ax=ax1)\n",
    "ax1.set(title=\"SCF: High Variance Features\", xlabel=\"Feature\", ylabel=\"Variance\")\n",
    "#Plot one of the highly skewed feature\n",
    "ax2 = sns.boxplot(data = dfs, x=\"nhnfin\", ax=ax2)\n",
    "ax2.set(title=\"Skewed Feature: Non-home, non-financial\")\n",
    "plt.subplots_adjust(left=0.2, right=2, wspace=0.2, hspace=1)\n",
    "plt.show();"
   ]
  },
  {
   "cell_type": "code",
   "execution_count": 152,
   "metadata": {},
   "outputs": [
    {
     "data": {
      "image/png": "[encoded data removed]",
      "text/plain": [
       "<Figure size 432x288 with 1 Axes>"
      ]
     },
     "metadata": {
      "needs_background": "light"
     },
     "output_type": "display_data"
    }
   ],
   "source": [
    "#Calculate trimmed variance\n",
    "#Get top 15 highes trimmed variance features\n",
    "top_trim_var = dfs.apply(trimmed_var).nlargest(15)\n",
    "#plot the high trimmed variance features\n",
    "top_trim_var.plot(kind=\"bar\", color=\"#2c69b0\")\n",
    "plt.title(\"SCF: High Variance Features\")\n",
    "plt.xlabel(\"Feature\")\n",
    "plt.ylabel(\"Variance\");"
   ]
  },
  {
   "cell_type": "code",
   "execution_count": 153,
   "metadata": {},
   "outputs": [
    {
     "data": {
      "image/png": "[encoded data removed]",
      "text/plain": [
       "<Figure size 1152x576 with 2 Axes>"
      ]
     },
     "metadata": {
      "needs_background": "light"
     },
     "output_type": "display_data"
    }
   ],
   "source": [
    "#Select 6 features with highest trimmed variance, avoid high correlation\n",
    "fin_features = top_trim_var.index.to_list()\n",
    "corr = dfs_bus[fin_features].corr()\n",
    "fig = plt.figure(figsize=(16,8))\n",
    "sns.heatmap(corr, annot=True, cmap=\"vlag\")\n",
    "fin_features = [\"asset\", \"nfin\", \"fin\", \"houses\", \"debt\", \"kgtotal\"]"
   ]
  },
  {
   "cell_type": "markdown",
   "metadata": {},
   "source": [
    "### Demographical and Other Features"
   ]
  },
  {
   "cell_type": "markdown",
   "metadata": {},
   "source": [
    "At the same time, it would also be useful to include in features that can profile an investors by their demographical and attitudinal attributes. We attempt to select these features from the exploratory data analysis above.  "
   ]
  },
  {
   "cell_type": "code",
   "execution_count": 154,
   "metadata": {},
   "outputs": [],
   "source": [
    "# create list of demographical features\n",
    "demo_features = [\"agecl\",\"spendmor\", \"educ\", \"married\", \"lifecl\", \"kids\", \"yesfinrisk\"]"
   ]
  },
  {
   "cell_type": "markdown",
   "metadata": {},
   "source": [
    "After the selections, we are going to work with these features going forward"
   ]
  },
  {
   "cell_type": "markdown",
   "metadata": {},
   "source": [
    "| Variables  | Description  |\n",
    "|---|---|\n",
    "| asset |Total value of assets held by household, 2022 dollars   |\n",
    "| nfin  | Total value of nonfinancial assets held by household, 2022 dollars   |\n",
    "| fin  | Total value of financial assets held by household, 2022 dollars  |\n",
    "| houses  |Total value of primary residence of household, 2022 dollars   |\n",
    "| debt  |\tTotal value of debt held by household, 2022 dollars   |\n",
    "| kgtotal  |Total unrealized capital gains or losses for the household, 2022 dollars   |\n",
    "| agecl  | \tAge group of the reference person  |\n",
    "| spendmor  |Respondents would spend more if assets appreciated in value   |\n",
    "| educ  | Highest completed grade by reference person  |\n",
    "| married  | \tMarital status of reference person  |\n",
    "| lifecl  | \tLife cycle of reference person  |\n",
    "| kids  |Total number of children in household   |\n",
    "| yesfinrisk  | Respondent willing to take financial risk  |"
   ]
  },
  {
   "cell_type": "markdown",
   "metadata": {},
   "source": [
    "## Build Model"
   ]
  },
  {
   "cell_type": "markdown",
   "metadata": {},
   "source": [
    "To further enhance the clustering process, we will remove outliers form the selected financial features"
   ]
  },
  {
   "cell_type": "code",
   "execution_count": 155,
   "metadata": {},
   "outputs": [
    {
     "data": {
      "text/html": [
       "<div>\n",
       "<style scoped>\n",
       "    .dataframe tbody tr th:only-of-type {\n",
       "        vertical-align: middle;\n",
       "    }\n",
       "\n",
       "    .dataframe tbody tr th {\n",
       "        vertical-align: top;\n",
       "    }\n",
       "\n",
       "    .dataframe thead th {\n",
       "        text-align: right;\n",
       "    }\n",
       "</style>\n",
       "<table border=\"1\" class=\"dataframe\">\n",
       "  <thead>\n",
       "    <tr style=\"text-align: right;\">\n",
       "      <th></th>\n",
       "      <th>yy1</th>\n",
       "      <th>y1</th>\n",
       "      <th>wgt</th>\n",
       "      <th>hhsex</th>\n",
       "      <th>age</th>\n",
       "      <th>agecl</th>\n",
       "      <th>educ</th>\n",
       "      <th>edcl</th>\n",
       "      <th>married</th>\n",
       "      <th>kids</th>\n",
       "      <th>...</th>\n",
       "      <th>nwcat</th>\n",
       "      <th>inccat</th>\n",
       "      <th>assetcat</th>\n",
       "      <th>ninccat</th>\n",
       "      <th>ninc2cat</th>\n",
       "      <th>nwpctlecat</th>\n",
       "      <th>incpctlecat</th>\n",
       "      <th>nincpctlecat</th>\n",
       "      <th>incqrtcat</th>\n",
       "      <th>nincqrtcat</th>\n",
       "    </tr>\n",
       "  </thead>\n",
       "  <tbody>\n",
       "    <tr>\n",
       "      <th>5</th>\n",
       "      <td>2</td>\n",
       "      <td>21</td>\n",
       "      <td>236.63</td>\n",
       "      <td>1</td>\n",
       "      <td>46</td>\n",
       "      <td>3</td>\n",
       "      <td>12</td>\n",
       "      <td>4</td>\n",
       "      <td>2</td>\n",
       "      <td>0</td>\n",
       "      <td>...</td>\n",
       "      <td>4</td>\n",
       "      <td>5</td>\n",
       "      <td>5</td>\n",
       "      <td>5</td>\n",
       "      <td>2</td>\n",
       "      <td>8</td>\n",
       "      <td>9</td>\n",
       "      <td>9</td>\n",
       "      <td>4</td>\n",
       "      <td>4</td>\n",
       "    </tr>\n",
       "    <tr>\n",
       "      <th>6</th>\n",
       "      <td>2</td>\n",
       "      <td>22</td>\n",
       "      <td>245.85</td>\n",
       "      <td>1</td>\n",
       "      <td>46</td>\n",
       "      <td>3</td>\n",
       "      <td>12</td>\n",
       "      <td>4</td>\n",
       "      <td>2</td>\n",
       "      <td>0</td>\n",
       "      <td>...</td>\n",
       "      <td>4</td>\n",
       "      <td>5</td>\n",
       "      <td>5</td>\n",
       "      <td>5</td>\n",
       "      <td>2</td>\n",
       "      <td>8</td>\n",
       "      <td>9</td>\n",
       "      <td>9</td>\n",
       "      <td>4</td>\n",
       "      <td>4</td>\n",
       "    </tr>\n",
       "    <tr>\n",
       "      <th>7</th>\n",
       "      <td>2</td>\n",
       "      <td>23</td>\n",
       "      <td>253.10</td>\n",
       "      <td>1</td>\n",
       "      <td>46</td>\n",
       "      <td>3</td>\n",
       "      <td>12</td>\n",
       "      <td>4</td>\n",
       "      <td>2</td>\n",
       "      <td>0</td>\n",
       "      <td>...</td>\n",
       "      <td>4</td>\n",
       "      <td>5</td>\n",
       "      <td>5</td>\n",
       "      <td>5</td>\n",
       "      <td>2</td>\n",
       "      <td>8</td>\n",
       "      <td>9</td>\n",
       "      <td>9</td>\n",
       "      <td>4</td>\n",
       "      <td>4</td>\n",
       "    </tr>\n",
       "    <tr>\n",
       "      <th>8</th>\n",
       "      <td>2</td>\n",
       "      <td>24</td>\n",
       "      <td>252.91</td>\n",
       "      <td>1</td>\n",
       "      <td>46</td>\n",
       "      <td>3</td>\n",
       "      <td>12</td>\n",
       "      <td>4</td>\n",
       "      <td>2</td>\n",
       "      <td>0</td>\n",
       "      <td>...</td>\n",
       "      <td>4</td>\n",
       "      <td>5</td>\n",
       "      <td>5</td>\n",
       "      <td>5</td>\n",
       "      <td>2</td>\n",
       "      <td>8</td>\n",
       "      <td>9</td>\n",
       "      <td>9</td>\n",
       "      <td>4</td>\n",
       "      <td>4</td>\n",
       "    </tr>\n",
       "    <tr>\n",
       "      <th>9</th>\n",
       "      <td>2</td>\n",
       "      <td>25</td>\n",
       "      <td>253.81</td>\n",
       "      <td>1</td>\n",
       "      <td>46</td>\n",
       "      <td>3</td>\n",
       "      <td>12</td>\n",
       "      <td>4</td>\n",
       "      <td>2</td>\n",
       "      <td>0</td>\n",
       "      <td>...</td>\n",
       "      <td>4</td>\n",
       "      <td>5</td>\n",
       "      <td>5</td>\n",
       "      <td>5</td>\n",
       "      <td>2</td>\n",
       "      <td>8</td>\n",
       "      <td>9</td>\n",
       "      <td>9</td>\n",
       "      <td>4</td>\n",
       "      <td>4</td>\n",
       "    </tr>\n",
       "  </tbody>\n",
       "</table>\n",
       "<p>5 rows × 357 columns</p>\n",
       "</div>"
      ],
      "text/plain": [
       "   yy1  y1    wgt  hhsex  age  agecl  educ  edcl  married  kids  ...  nwcat  \\\n",
       "5    2  21 236.63      1   46      3    12     4        2     0  ...      4   \n",
       "6    2  22 245.85      1   46      3    12     4        2     0  ...      4   \n",
       "7    2  23 253.10      1   46      3    12     4        2     0  ...      4   \n",
       "8    2  24 252.91      1   46      3    12     4        2     0  ...      4   \n",
       "9    2  25 253.81      1   46      3    12     4        2     0  ...      4   \n",
       "\n",
       "   inccat  assetcat  ninccat  ninc2cat  nwpctlecat  incpctlecat  nincpctlecat  \\\n",
       "5       5         5        5         2           8            9             9   \n",
       "6       5         5        5         2           8            9             9   \n",
       "7       5         5        5         2           8            9             9   \n",
       "8       5         5        5         2           8            9             9   \n",
       "9       5         5        5         2           8            9             9   \n",
       "\n",
       "   incqrtcat  nincqrtcat  \n",
       "5          4           4  \n",
       "6          4           4  \n",
       "7          4           4  \n",
       "8          4           4  \n",
       "9          4           4  \n",
       "\n",
       "[5 rows x 357 columns]"
      ]
     },
     "execution_count": 155,
     "metadata": {},
     "output_type": "execute_result"
    }
   ],
   "source": [
    "# Calculate quantiles and IQR\n",
    "Q1 = scfe_bus[fin_features].quantile(0.25) \n",
    "Q3 = scfe_bus[fin_features].quantile(0.75)\n",
    "IQR = Q3 - Q1\n",
    "\n",
    "# Return a boolean array of the rows with (any) non-outlier column values\n",
    "condition = ~((scfe_bus[fin_features] < (Q1 - 1.5 * IQR)) | (scfe_bus[fin_features] > (Q3 + 1.5 * IQR))).any(axis=1)\n",
    "\n",
    "# Filter our dataframe based on condition\n",
    "filtered_scfe = scfe_bus[condition]\n",
    "\n",
    "filtered_scfe.head()"
   ]
  },
  {
   "cell_type": "markdown",
   "metadata": {},
   "source": [
    "### K Means Clustering"
   ]
  },
  {
   "cell_type": "markdown",
   "metadata": {},
   "source": [
    "We use K Means model in order to perform clustering analysis. Since KMeans depend on calculating and minimizing intra-cluster distance, it would best be used on numberical data"
   ]
  },
  {
   "cell_type": "code",
   "execution_count": 156,
   "metadata": {},
   "outputs": [
    {
     "data": {
      "text/html": [
       "<div>\n",
       "<style scoped>\n",
       "    .dataframe tbody tr th:only-of-type {\n",
       "        vertical-align: middle;\n",
       "    }\n",
       "\n",
       "    .dataframe tbody tr th {\n",
       "        vertical-align: top;\n",
       "    }\n",
       "\n",
       "    .dataframe thead th {\n",
       "        text-align: right;\n",
       "    }\n",
       "</style>\n",
       "<table border=\"1\" class=\"dataframe\">\n",
       "  <thead>\n",
       "    <tr style=\"text-align: right;\">\n",
       "      <th></th>\n",
       "      <th>asset</th>\n",
       "      <th>nfin</th>\n",
       "      <th>fin</th>\n",
       "      <th>houses</th>\n",
       "      <th>debt</th>\n",
       "      <th>kgtotal</th>\n",
       "    </tr>\n",
       "  </thead>\n",
       "  <tbody>\n",
       "    <tr>\n",
       "      <th>5</th>\n",
       "      <td>1,240,500.00</td>\n",
       "      <td>1,100,000.00</td>\n",
       "      <td>140,500.00</td>\n",
       "      <td>580,000.00</td>\n",
       "      <td>518,700.00</td>\n",
       "      <td>164,000.00</td>\n",
       "    </tr>\n",
       "    <tr>\n",
       "      <th>6</th>\n",
       "      <td>1,242,500.00</td>\n",
       "      <td>1,100,000.00</td>\n",
       "      <td>142,500.00</td>\n",
       "      <td>580,000.00</td>\n",
       "      <td>518,700.00</td>\n",
       "      <td>164,000.00</td>\n",
       "    </tr>\n",
       "    <tr>\n",
       "      <th>7</th>\n",
       "      <td>1,241,100.00</td>\n",
       "      <td>1,100,000.00</td>\n",
       "      <td>141,100.00</td>\n",
       "      <td>580,000.00</td>\n",
       "      <td>519,700.00</td>\n",
       "      <td>164,000.00</td>\n",
       "    </tr>\n",
       "    <tr>\n",
       "      <th>8</th>\n",
       "      <td>1,244,000.00</td>\n",
       "      <td>1,100,000.00</td>\n",
       "      <td>144,000.00</td>\n",
       "      <td>580,000.00</td>\n",
       "      <td>519,700.00</td>\n",
       "      <td>164,000.00</td>\n",
       "    </tr>\n",
       "    <tr>\n",
       "      <th>9</th>\n",
       "      <td>1,241,300.00</td>\n",
       "      <td>1,099,000.00</td>\n",
       "      <td>142,300.00</td>\n",
       "      <td>580,000.00</td>\n",
       "      <td>518,700.00</td>\n",
       "      <td>164,000.00</td>\n",
       "    </tr>\n",
       "  </tbody>\n",
       "</table>\n",
       "</div>"
      ],
      "text/plain": [
       "         asset         nfin        fin     houses       debt    kgtotal\n",
       "5 1,240,500.00 1,100,000.00 140,500.00 580,000.00 518,700.00 164,000.00\n",
       "6 1,242,500.00 1,100,000.00 142,500.00 580,000.00 518,700.00 164,000.00\n",
       "7 1,241,100.00 1,100,000.00 141,100.00 580,000.00 519,700.00 164,000.00\n",
       "8 1,244,000.00 1,100,000.00 144,000.00 580,000.00 519,700.00 164,000.00\n",
       "9 1,241,300.00 1,099,000.00 142,300.00 580,000.00 518,700.00 164,000.00"
      ]
     },
     "execution_count": 156,
     "metadata": {},
     "output_type": "execute_result"
    }
   ],
   "source": [
    "#Select dataframe containing selected financial features to fit KMeans first\n",
    "X = filtered_scfe[fin_features].astype(\"float32\")\n",
    "X.head()"
   ]
  },
  {
   "cell_type": "markdown",
   "metadata": {},
   "source": [
    "Since KMeans as well as other clustering methods are sensitive to scale, we have to include scaler"
   ]
  },
  {
   "cell_type": "code",
   "execution_count": 157,
   "metadata": {},
   "outputs": [
    {
     "name": "stdout",
     "output_type": "stream",
     "text": [
      "X_scaled shape: (4596, 6)\n"
     ]
    },
    {
     "data": {
      "text/html": [
       "<div>\n",
       "<style scoped>\n",
       "    .dataframe tbody tr th:only-of-type {\n",
       "        vertical-align: middle;\n",
       "    }\n",
       "\n",
       "    .dataframe tbody tr th {\n",
       "        vertical-align: top;\n",
       "    }\n",
       "\n",
       "    .dataframe thead th {\n",
       "        text-align: right;\n",
       "    }\n",
       "</style>\n",
       "<table border=\"1\" class=\"dataframe\">\n",
       "  <thead>\n",
       "    <tr style=\"text-align: right;\">\n",
       "      <th></th>\n",
       "      <th>asset</th>\n",
       "      <th>nfin</th>\n",
       "      <th>fin</th>\n",
       "      <th>houses</th>\n",
       "      <th>debt</th>\n",
       "      <th>kgtotal</th>\n",
       "    </tr>\n",
       "  </thead>\n",
       "  <tbody>\n",
       "    <tr>\n",
       "      <th>0</th>\n",
       "      <td>-0.62</td>\n",
       "      <td>-0.50</td>\n",
       "      <td>-0.54</td>\n",
       "      <td>-0.37</td>\n",
       "      <td>0.67</td>\n",
       "      <td>-0.52</td>\n",
       "    </tr>\n",
       "    <tr>\n",
       "      <th>1</th>\n",
       "      <td>-0.62</td>\n",
       "      <td>-0.50</td>\n",
       "      <td>-0.54</td>\n",
       "      <td>-0.37</td>\n",
       "      <td>0.67</td>\n",
       "      <td>-0.52</td>\n",
       "    </tr>\n",
       "    <tr>\n",
       "      <th>2</th>\n",
       "      <td>-0.62</td>\n",
       "      <td>-0.50</td>\n",
       "      <td>-0.54</td>\n",
       "      <td>-0.37</td>\n",
       "      <td>0.68</td>\n",
       "      <td>-0.52</td>\n",
       "    </tr>\n",
       "    <tr>\n",
       "      <th>3</th>\n",
       "      <td>-0.62</td>\n",
       "      <td>-0.50</td>\n",
       "      <td>-0.54</td>\n",
       "      <td>-0.37</td>\n",
       "      <td>0.68</td>\n",
       "      <td>-0.52</td>\n",
       "    </tr>\n",
       "    <tr>\n",
       "      <th>4</th>\n",
       "      <td>-0.62</td>\n",
       "      <td>-0.50</td>\n",
       "      <td>-0.54</td>\n",
       "      <td>-0.37</td>\n",
       "      <td>0.67</td>\n",
       "      <td>-0.52</td>\n",
       "    </tr>\n",
       "  </tbody>\n",
       "</table>\n",
       "</div>"
      ],
      "text/plain": [
       "   asset  nfin   fin  houses  debt  kgtotal\n",
       "0  -0.62 -0.50 -0.54   -0.37  0.67    -0.52\n",
       "1  -0.62 -0.50 -0.54   -0.37  0.67    -0.52\n",
       "2  -0.62 -0.50 -0.54   -0.37  0.68    -0.52\n",
       "3  -0.62 -0.50 -0.54   -0.37  0.68    -0.52\n",
       "4  -0.62 -0.50 -0.54   -0.37  0.67    -0.52"
      ]
     },
     "execution_count": 157,
     "metadata": {},
     "output_type": "execute_result"
    }
   ],
   "source": [
    "#Instantiate transformer\n",
    "ss = StandardScaler()\n",
    "\n",
    "#Transform \"X\"\n",
    "X_scaled_data = ss.fit_transform(X)\n",
    "\n",
    "#Put \"X_scaled_data\" into DataFrame\n",
    "X_scaled = pd.DataFrame(X_scaled_data, columns=X.columns)\n",
    "\n",
    "print(\"X_scaled shape:\", X_scaled.shape)\n",
    "X_scaled.head()\n"
   ]
  },
  {
   "cell_type": "markdown",
   "metadata": {},
   "source": [
    "#### Finding optimal number of k"
   ]
  },
  {
   "cell_type": "markdown",
   "metadata": {},
   "source": [
    "In order to find the optimal number of k, we can use 2 methods such as:\n",
    "- Elbow method with *Inertia*: Inertia is defined as the mean squared distance between each instance and its closest centroid. Therefore, we would want to select a k at which, inertia is increasingly becoming lower. \n",
    "- *Silhouette Score*: Silhouette score is a measure of how similar an object is to its own cluster (cohesion) compared to other clusters (separation) and is in the range from (-1, 1). The higher the Silhouette score, the more well-clustered the data is. "
   ]
  },
  {
   "cell_type": "code",
   "execution_count": 158,
   "metadata": {},
   "outputs": [],
   "source": [
    "#Use a for loop to build and train KMeans model with a range of number of clusters\n",
    "#Add sample weight to assign weight to observations\n",
    "n_clusters = range(2, 9)\n",
    "inertia_errors = []\n",
    "silhouette_scores = []\n",
    "sample_weight = filtered_scfe[\"wgt\"]"
   ]
  },
  {
   "cell_type": "code",
   "execution_count": 159,
   "metadata": {},
   "outputs": [
    {
     "name": "stdout",
     "output_type": "stream",
     "text": [
      "Inertia: [22593024.0, 16758070.0, 14681345.0]\n",
      "\n",
      "Silhouette Scores: [0.43608838, 0.4081312, 0.40191975]\n"
     ]
    }
   ],
   "source": [
    "# Add for loop to train model and calculate inertia, silhouette score.\n",
    "for k in n_clusters:\n",
    "    model = KMeans(n_clusters=k, random_state=42, n_init=\"auto\")\n",
    "    #train model\n",
    "    model.fit(X_scaled, sample_weight=sample_weight)\n",
    "    inertia_errors.append(model.inertia_)\n",
    "    silhouette_scores.append(silhouette_score(X_scaled, model.labels_))\n",
    "print(\"Inertia:\", inertia_errors[:3])\n",
    "print()\n",
    "print(\"Silhouette Scores:\", silhouette_scores[:3])"
   ]
  },
  {
   "cell_type": "code",
   "execution_count": 160,
   "metadata": {},
   "outputs": [
    {
     "data": {
      "image/png": "[encoded data removed]",
      "text/plain": [
       "<Figure size 432x288 with 2 Axes>"
      ]
     },
     "metadata": {
      "needs_background": "light"
     },
     "output_type": "display_data"
    }
   ],
   "source": [
    "#Plot to find the best number of k using Inertia\n",
    "#Plot to find the best number of k using Silhouette\n",
    "fig, (ax1, ax2) = plt.subplots(1, 2)\n",
    "ax1.plot(n_clusters, inertia_errors, linewidth=2)\n",
    "ax1.set(title = \"K-Means Model: Inertia vs Number of Clusters\")\n",
    "ax2= sns.lineplot(x=n_clusters, y=silhouette_scores, linewidth=2)\n",
    "ax2.set(title = \"K-Means Model: Silhouette vs Number of Clusters\")\n",
    "plt.subplots_adjust(left=0.2, right=2, wspace=0.2, hspace=1)\n",
    "plt.show();"
   ]
  },
  {
   "cell_type": "markdown",
   "metadata": {},
   "source": [
    "From the chart above, we can either select 5 or 6 as the optimal number of clusters for our final model. In this case, select ***k=5*** to build our final model."
   ]
  },
  {
   "cell_type": "code",
   "execution_count": 178,
   "metadata": {},
   "outputs": [
    {
     "data": {
      "text/html": [
       "<style>#sk-container-id-3 {color: black;background-color: white;}#sk-container-id-3 pre{padding: 0;}#sk-container-id-3 div.sk-toggleable {background-color: white;}#sk-container-id-3 label.sk-toggleable__label {cursor: pointer;display: block;width: 100%;margin-bottom: 0;padding: 0.3em;box-sizing: border-box;text-align: center;}#sk-container-id-3 label.sk-toggleable__label-arrow:before {content: \"▸\";float: left;margin-right: 0.25em;color: #696969;}#sk-container-id-3 label.sk-toggleable__label-arrow:hover:before {color: black;}#sk-container-id-3 div.sk-estimator:hover label.sk-toggleable__label-arrow:before {color: black;}#sk-container-id-3 div.sk-toggleable__content {max-height: 0;max-width: 0;overflow: hidden;text-align: left;background-color: #f0f8ff;}#sk-container-id-3 div.sk-toggleable__content pre {margin: 0.2em;color: black;border-radius: 0.25em;background-color: #f0f8ff;}#sk-container-id-3 input.sk-toggleable__control:checked~div.sk-toggleable__content {max-height: 200px;max-width: 100%;overflow: auto;}#sk-container-id-3 input.sk-toggleable__control:checked~label.sk-toggleable__label-arrow:before {content: \"▾\";}#sk-container-id-3 div.sk-estimator input.sk-toggleable__control:checked~label.sk-toggleable__label {background-color: #d4ebff;}#sk-container-id-3 div.sk-label input.sk-toggleable__control:checked~label.sk-toggleable__label {background-color: #d4ebff;}#sk-container-id-3 input.sk-hidden--visually {border: 0;clip: rect(1px 1px 1px 1px);clip: rect(1px, 1px, 1px, 1px);height: 1px;margin: -1px;overflow: hidden;padding: 0;position: absolute;width: 1px;}#sk-container-id-3 div.sk-estimator {font-family: monospace;background-color: #f0f8ff;border: 1px dotted black;border-radius: 0.25em;box-sizing: border-box;margin-bottom: 0.5em;}#sk-container-id-3 div.sk-estimator:hover {background-color: #d4ebff;}#sk-container-id-3 div.sk-parallel-item::after {content: \"\";width: 100%;border-bottom: 1px solid gray;flex-grow: 1;}#sk-container-id-3 div.sk-label:hover label.sk-toggleable__label {background-color: #d4ebff;}#sk-container-id-3 div.sk-serial::before {content: \"\";position: absolute;border-left: 1px solid gray;box-sizing: border-box;top: 0;bottom: 0;left: 50%;z-index: 0;}#sk-container-id-3 div.sk-serial {display: flex;flex-direction: column;align-items: center;background-color: white;padding-right: 0.2em;padding-left: 0.2em;position: relative;}#sk-container-id-3 div.sk-item {position: relative;z-index: 1;}#sk-container-id-3 div.sk-parallel {display: flex;align-items: stretch;justify-content: center;background-color: white;position: relative;}#sk-container-id-3 div.sk-item::before, #sk-container-id-3 div.sk-parallel-item::before {content: \"\";position: absolute;border-left: 1px solid gray;box-sizing: border-box;top: 0;bottom: 0;left: 50%;z-index: -1;}#sk-container-id-3 div.sk-parallel-item {display: flex;flex-direction: column;z-index: 1;position: relative;background-color: white;}#sk-container-id-3 div.sk-parallel-item:first-child::after {align-self: flex-end;width: 50%;}#sk-container-id-3 div.sk-parallel-item:last-child::after {align-self: flex-start;width: 50%;}#sk-container-id-3 div.sk-parallel-item:only-child::after {width: 0;}#sk-container-id-3 div.sk-dashed-wrapped {border: 1px dashed gray;margin: 0 0.4em 0.5em 0.4em;box-sizing: border-box;padding-bottom: 0.4em;background-color: white;}#sk-container-id-3 div.sk-label label {font-family: monospace;font-weight: bold;display: inline-block;line-height: 1.2em;}#sk-container-id-3 div.sk-label-container {text-align: center;}#sk-container-id-3 div.sk-container {/* jupyter's `normalize.less` sets `[hidden] { display: none; }` but bootstrap.min.css set `[hidden] { display: none !important; }` so we also need the `!important` here to be able to override the default hidden behavior on the sphinx rendered scikit-learn.org. See: https://github.com/scikit-learn/scikit-learn/issues/21755 */display: inline-block !important;position: relative;}#sk-container-id-3 div.sk-text-repr-fallback {display: none;}</style><div id=\"sk-container-id-3\" class=\"sk-top-container\"><div class=\"sk-text-repr-fallback\"><pre>Pipeline(steps=[(&#x27;standardscaler&#x27;, StandardScaler()),\n",
       "                (&#x27;kmeans&#x27;,\n",
       "                 KMeans(n_clusters=5, n_init=&#x27;auto&#x27;, random_state=42))])</pre><b>In a Jupyter environment, please rerun this cell to show the HTML representation or trust the notebook. <br />On GitHub, the HTML representation is unable to render, please try loading this page with nbviewer.org.</b></div><div class=\"sk-container\" hidden><div class=\"sk-item sk-dashed-wrapped\"><div class=\"sk-label-container\"><div class=\"sk-label sk-toggleable\"><input class=\"sk-toggleable__control sk-hidden--visually\" id=\"sk-estimator-id-7\" type=\"checkbox\" ><label for=\"sk-estimator-id-7\" class=\"sk-toggleable__label sk-toggleable__label-arrow\">Pipeline</label><div class=\"sk-toggleable__content\"><pre>Pipeline(steps=[(&#x27;standardscaler&#x27;, StandardScaler()),\n",
       "                (&#x27;kmeans&#x27;,\n",
       "                 KMeans(n_clusters=5, n_init=&#x27;auto&#x27;, random_state=42))])</pre></div></div></div><div class=\"sk-serial\"><div class=\"sk-item\"><div class=\"sk-estimator sk-toggleable\"><input class=\"sk-toggleable__control sk-hidden--visually\" id=\"sk-estimator-id-8\" type=\"checkbox\" ><label for=\"sk-estimator-id-8\" class=\"sk-toggleable__label sk-toggleable__label-arrow\">StandardScaler</label><div class=\"sk-toggleable__content\"><pre>StandardScaler()</pre></div></div></div><div class=\"sk-item\"><div class=\"sk-estimator sk-toggleable\"><input class=\"sk-toggleable__control sk-hidden--visually\" id=\"sk-estimator-id-9\" type=\"checkbox\" ><label for=\"sk-estimator-id-9\" class=\"sk-toggleable__label sk-toggleable__label-arrow\">KMeans</label><div class=\"sk-toggleable__content\"><pre>KMeans(n_clusters=5, n_init=&#x27;auto&#x27;, random_state=42)</pre></div></div></div></div></div></div></div>"
      ],
      "text/plain": [
       "Pipeline(steps=[('standardscaler', StandardScaler()),\n",
       "                ('kmeans',\n",
       "                 KMeans(n_clusters=5, n_init='auto', random_state=42))])"
      ]
     },
     "execution_count": 178,
     "metadata": {},
     "output_type": "execute_result"
    }
   ],
   "source": [
    "#Build the final model\n",
    "final_model = make_pipeline(StandardScaler(), KMeans(n_clusters=5, random_state=42, n_init=\"auto\"))\n",
    "final_model.fit(X_scaled, kmeans__sample_weight=sample_weight)"
   ]
  },
  {
   "cell_type": "code",
   "execution_count": 179,
   "metadata": {},
   "outputs": [
    {
     "data": {
      "text/plain": [
       "array([[ 0.12862916,  0.18696417, -0.01258553,  0.2823143 , -0.36552948,\n",
       "         0.25467777],\n",
       "       [ 1.2941282 ,  0.10440592,  2.555113  ,  1.4715418 , -0.5107034 ,\n",
       "         0.562317  ],\n",
       "       [-0.38082084, -0.30577144, -0.33671635,  0.24151027,  1.22054   ,\n",
       "        -0.35005137],\n",
       "       [-0.6316373 , -0.5447706 , -0.5017112 , -0.6733896 , -0.4605037 ,\n",
       "        -0.49566698],\n",
       "       [ 2.2712252 ,  2.9592466 ,  0.2940223 ,  0.68999374,  0.4728622 ,\n",
       "         2.9106953 ]], dtype=float32)"
      ]
     },
     "execution_count": 179,
     "metadata": {},
     "output_type": "execute_result"
    }
   ],
   "source": [
    "#Get the centroids from the final model\n",
    "centroids = final_model.named_steps[\"kmeans\"].cluster_centers_\n",
    "centroids"
   ]
  },
  {
   "cell_type": "code",
   "execution_count": 180,
   "metadata": {},
   "outputs": [],
   "source": [
    "#Get labels from the final model\n",
    "labels = final_model.named_steps[\"kmeans\"].labels_"
   ]
  },
  {
   "cell_type": "markdown",
   "metadata": {},
   "source": [
    "#### Principal Component Analysis"
   ]
  },
  {
   "cell_type": "markdown",
   "metadata": {},
   "source": [
    "In order to reduce high dimensionality and learn what features are the most important in the clustering process, we could use Principal Component Analysis (PCA). Essentially, PCA is a linear dimensionality reduction technique than can be utilized for extracting information from a high-dimensional space by projecting it into a lower-dimension sub-space. PCA can preserve the essential parts that have more variation of the data and remove the parts with fewer variation that could be not necessary. "
   ]
  },
  {
   "cell_type": "code",
   "execution_count": 181,
   "metadata": {},
   "outputs": [
    {
     "name": "stdout",
     "output_type": "stream",
     "text": [
      "X_pca shape: (4596, 2)\n"
     ]
    },
    {
     "data": {
      "text/html": [
       "<div>\n",
       "<style scoped>\n",
       "    .dataframe tbody tr th:only-of-type {\n",
       "        vertical-align: middle;\n",
       "    }\n",
       "\n",
       "    .dataframe tbody tr th {\n",
       "        vertical-align: top;\n",
       "    }\n",
       "\n",
       "    .dataframe thead th {\n",
       "        text-align: right;\n",
       "    }\n",
       "</style>\n",
       "<table border=\"1\" class=\"dataframe\">\n",
       "  <thead>\n",
       "    <tr style=\"text-align: right;\">\n",
       "      <th></th>\n",
       "      <th>PC1</th>\n",
       "      <th>PC2</th>\n",
       "    </tr>\n",
       "  </thead>\n",
       "  <tbody>\n",
       "    <tr>\n",
       "      <th>0</th>\n",
       "      <td>-1.05</td>\n",
       "      <td>0.77</td>\n",
       "    </tr>\n",
       "    <tr>\n",
       "      <th>1</th>\n",
       "      <td>-1.05</td>\n",
       "      <td>0.77</td>\n",
       "    </tr>\n",
       "    <tr>\n",
       "      <th>2</th>\n",
       "      <td>-1.05</td>\n",
       "      <td>0.77</td>\n",
       "    </tr>\n",
       "    <tr>\n",
       "      <th>3</th>\n",
       "      <td>-1.05</td>\n",
       "      <td>0.77</td>\n",
       "    </tr>\n",
       "    <tr>\n",
       "      <th>4</th>\n",
       "      <td>-1.05</td>\n",
       "      <td>0.77</td>\n",
       "    </tr>\n",
       "  </tbody>\n",
       "</table>\n",
       "</div>"
      ],
      "text/plain": [
       "    PC1  PC2\n",
       "0 -1.05 0.77\n",
       "1 -1.05 0.77\n",
       "2 -1.05 0.77\n",
       "3 -1.05 0.77\n",
       "4 -1.05 0.77"
      ]
     },
     "execution_count": 181,
     "metadata": {},
     "output_type": "execute_result"
    }
   ],
   "source": [
    "# Instantiate transformer\n",
    "pca = PCA(n_components=2, random_state=42)\n",
    "\n",
    "# Transform \"X\"\n",
    "X_t = pca.fit_transform(X_scaled)\n",
    "\n",
    "# Put \"X_t\" into DataFrame\n",
    "X_pca = pd.DataFrame(X_t, columns=[\"PC1\", \"PC2\"])\n",
    "\n",
    "print(\"X_pca shape:\", X_pca.shape)\n",
    "X_pca.head()"
   ]
  },
  {
   "cell_type": "code",
   "execution_count": 182,
   "metadata": {},
   "outputs": [
    {
     "name": "stdout",
     "output_type": "stream",
     "text": [
      " Total variance explained by the 2 features: 0.77\n"
     ]
    },
    {
     "data": {
      "image/png": "[encoded data removed]",
      "text/plain": [
       "<Figure size 432x288 with 1 Axes>"
      ]
     },
     "metadata": {
      "needs_background": "light"
     },
     "output_type": "display_data"
    }
   ],
   "source": [
    "#Expalined variance by the features\n",
    "print(f\" Total variance explained by the 2 features: {round(sum(pca.explained_variance_ratio_),2)}\")\n",
    "variance_ratio = pd.DataFrame(pca.explained_variance_ratio_, index=['PC1', 'PC2'])\n",
    "variance_ratio.plot(kind=\"bar\", color=\"#b5c8e2\", title=\"Explained Variance Ratio\", ylabel=\"Variance\")\n",
    "plt.legend('',frameon=False)\n",
    "plt.xticks(rotation=\"360\")\n",
    "plt.show();"
   ]
  },
  {
   "cell_type": "code",
   "execution_count": 183,
   "metadata": {},
   "outputs": [
    {
     "data": {
      "text/html": [
       "<div>\n",
       "<style scoped>\n",
       "    .dataframe tbody tr th:only-of-type {\n",
       "        vertical-align: middle;\n",
       "    }\n",
       "\n",
       "    .dataframe tbody tr th {\n",
       "        vertical-align: top;\n",
       "    }\n",
       "\n",
       "    .dataframe thead th {\n",
       "        text-align: right;\n",
       "    }\n",
       "</style>\n",
       "<table border=\"1\" class=\"dataframe\">\n",
       "  <thead>\n",
       "    <tr style=\"text-align: right;\">\n",
       "      <th></th>\n",
       "      <th>PC1</th>\n",
       "      <th>PC2</th>\n",
       "    </tr>\n",
       "  </thead>\n",
       "  <tbody>\n",
       "    <tr>\n",
       "      <th>asset</th>\n",
       "      <td>0.52</td>\n",
       "      <td>-0.15</td>\n",
       "    </tr>\n",
       "    <tr>\n",
       "      <th>nfin</th>\n",
       "      <td>0.47</td>\n",
       "      <td>-0.10</td>\n",
       "    </tr>\n",
       "    <tr>\n",
       "      <th>fin</th>\n",
       "      <td>0.37</td>\n",
       "      <td>-0.16</td>\n",
       "    </tr>\n",
       "    <tr>\n",
       "      <th>houses</th>\n",
       "      <td>0.39</td>\n",
       "      <td>0.36</td>\n",
       "    </tr>\n",
       "    <tr>\n",
       "      <th>debt</th>\n",
       "      <td>0.12</td>\n",
       "      <td>0.89</td>\n",
       "    </tr>\n",
       "    <tr>\n",
       "      <th>kgtotal</th>\n",
       "      <td>0.45</td>\n",
       "      <td>-0.13</td>\n",
       "    </tr>\n",
       "  </tbody>\n",
       "</table>\n",
       "</div>"
      ],
      "text/plain": [
       "         PC1   PC2\n",
       "asset   0.52 -0.15\n",
       "nfin    0.47 -0.10\n",
       "fin     0.37 -0.16\n",
       "houses  0.39  0.36\n",
       "debt    0.12  0.89\n",
       "kgtotal 0.45 -0.13"
      ]
     },
     "execution_count": 183,
     "metadata": {},
     "output_type": "execute_result"
    }
   ],
   "source": [
    "#Factor loadings\n",
    "loadings = pd.DataFrame(pca.components_.T, columns=['PC1', 'PC2'], index=X.columns)\n",
    "loadings"
   ]
  },
  {
   "cell_type": "markdown",
   "metadata": {},
   "source": [
    "From the factor loadings and the variance ratio, we can interpret our PCA findings as such:\n",
    "- PC1 loads strongly with variables that describes assets, non-financial assets and total unrealized capital gains or losses by households. Hence, a large value of PC1 would describe households with high asset overall and a high allocation of asset in non-financial and capital gains. \n",
    "- PC2, on the other hand, loads more on equity of residence and debt. Thus, a high value of PC2 would point to households that has houses and more debt as opposed to asset. This makes sense because the negative loadings of variables in PC2 belong to those associate more with asset. \n",
    "- Finally, we can conclude that the variables that influence our clustering the most are **asset, capital gains, debt and value of houses**. "
   ]
  },
  {
   "cell_type": "code",
   "execution_count": 185,
   "metadata": {},
   "outputs": [
    {
     "data": {
      "image/png": "[encoded data removed]",
      "text/plain": [
       "<Figure size 432x288 with 1 Axes>"
      ]
     },
     "metadata": {
      "needs_background": "light"
     },
     "output_type": "display_data"
    }
   ],
   "source": [
    "#Visualize clusters and PCA\n",
    "sns.scatterplot(data=X_pca, x=\"PC1\", y=\"PC2\",hue=labels, palette=palette[:5])\n",
    "plt.xlabel(\"PC1\")\n",
    "plt.ylabel(\"PC2\")\n",
    "plt.title(\"PCA Representation of Clusters\");"
   ]
  },
  {
   "cell_type": "code",
   "execution_count": 186,
   "metadata": {},
   "outputs": [
    {
     "data": {
      "text/html": [
       "<div>\n",
       "<style scoped>\n",
       "    .dataframe tbody tr th:only-of-type {\n",
       "        vertical-align: middle;\n",
       "    }\n",
       "\n",
       "    .dataframe tbody tr th {\n",
       "        vertical-align: top;\n",
       "    }\n",
       "\n",
       "    .dataframe thead th {\n",
       "        text-align: right;\n",
       "    }\n",
       "</style>\n",
       "<table border=\"1\" class=\"dataframe\">\n",
       "  <thead>\n",
       "    <tr style=\"text-align: right;\">\n",
       "      <th></th>\n",
       "      <th>asset</th>\n",
       "      <th>nfin</th>\n",
       "      <th>fin</th>\n",
       "      <th>houses</th>\n",
       "      <th>debt</th>\n",
       "      <th>kgtotal</th>\n",
       "    </tr>\n",
       "  </thead>\n",
       "  <tbody>\n",
       "    <tr>\n",
       "      <th>0</th>\n",
       "      <td>10,712,741.00</td>\n",
       "      <td>7,203,007.50</td>\n",
       "      <td>3,509,732.50</td>\n",
       "      <td>1,252,261.25</td>\n",
       "      <td>136,312.12</td>\n",
       "      <td>4,192,265.00</td>\n",
       "    </tr>\n",
       "    <tr>\n",
       "      <th>1</th>\n",
       "      <td>25,781,750.00</td>\n",
       "      <td>8,740,061.00</td>\n",
       "      <td>17,041,690.00</td>\n",
       "      <td>2,414,946.25</td>\n",
       "      <td>203,731.33</td>\n",
       "      <td>5,524,940.00</td>\n",
       "    </tr>\n",
       "    <tr>\n",
       "      <th>2</th>\n",
       "      <td>5,592,093.00</td>\n",
       "      <td>3,812,941.00</td>\n",
       "      <td>1,779,151.88</td>\n",
       "      <td>1,382,021.62</td>\n",
       "      <td>799,088.12</td>\n",
       "      <td>1,724,934.12</td>\n",
       "    </tr>\n",
       "    <tr>\n",
       "      <th>3</th>\n",
       "      <td>1,437,347.00</td>\n",
       "      <td>898,165.62</td>\n",
       "      <td>539,181.44</td>\n",
       "      <td>314,637.22</td>\n",
       "      <td>108,853.74</td>\n",
       "      <td>381,044.06</td>\n",
       "    </tr>\n",
       "    <tr>\n",
       "      <th>4</th>\n",
       "      <td>34,454,320.00</td>\n",
       "      <td>28,188,478.00</td>\n",
       "      <td>6,265,843.50</td>\n",
       "      <td>1,817,544.88</td>\n",
       "      <td>354,374.75</td>\n",
       "      <td>17,332,710.00</td>\n",
       "    </tr>\n",
       "  </tbody>\n",
       "</table>\n",
       "</div>"
      ],
      "text/plain": [
       "          asset          nfin           fin       houses       debt  \\\n",
       "0 10,712,741.00  7,203,007.50  3,509,732.50 1,252,261.25 136,312.12   \n",
       "1 25,781,750.00  8,740,061.00 17,041,690.00 2,414,946.25 203,731.33   \n",
       "2  5,592,093.00  3,812,941.00  1,779,151.88 1,382,021.62 799,088.12   \n",
       "3  1,437,347.00    898,165.62    539,181.44   314,637.22 108,853.74   \n",
       "4 34,454,320.00 28,188,478.00  6,265,843.50 1,817,544.88 354,374.75   \n",
       "\n",
       "        kgtotal  \n",
       "0  4,192,265.00  \n",
       "1  5,524,940.00  \n",
       "2  1,724,934.12  \n",
       "3    381,044.06  \n",
       "4 17,332,710.00  "
      ]
     },
     "execution_count": 186,
     "metadata": {},
     "output_type": "execute_result"
    }
   ],
   "source": [
    "#Get labels from the final model\n",
    "#Put clusters into a dataframe\n",
    "xgb = X.groupby(labels).mean()\n",
    "xgb"
   ]
  },
  {
   "cell_type": "code",
   "execution_count": 188,
   "metadata": {},
   "outputs": [
    {
     "data": {
      "image/png": "[encoded data removed]",
      "text/plain": [
       "<Figure size 1296x360 with 1 Axes>"
      ]
     },
     "metadata": {
      "needs_background": "light"
     },
     "output_type": "display_data"
    }
   ],
   "source": [
    "#Visualize each cluster by features\n",
    "xgb.plot.bar(rot=0, figsize=(18,5), color=palette);"
   ]
  },
  {
   "cell_type": "markdown",
   "metadata": {},
   "source": [
    "### Agglomerative Hierarchical Clustering"
   ]
  },
  {
   "cell_type": "markdown",
   "metadata": {},
   "source": [
    "Because categorical data (such as those demographical features we have selected above) does not seem to contribute in determining the distance from the mean. More specifically, the sample space for categorical data is discrete and does not have a natural origin. This makes applying Euclidean distance function difficult to make sense."
   ]
  },
  {
   "cell_type": "markdown",
   "metadata": {},
   "source": [
    "Therefore, we can make use of another measurements of similarity such as **Gower distance**. Gower distance is computed as the average of partial dissimilarities across individuals. An observation may contain logical, numberical, or categorical data. Each of the data type will have a different metrics used to calculate the distance. \n",
    "\n",
    "Gower distance is always a number between 0 (identical) vs 1 (maximally dissimilar).\n",
    "\n",
    "The resulting distance matrix can then be fed into Agglomerative Hierarchical Clustering method. We choose the *complete linkage* as suggested by [this paper](https://cdn.aaai.org/ojs/8282/8282-13-11810-1-2-20201228.pdf) since it is robust to the weight of observations. "
   ]
  },
  {
   "cell_type": "code",
   "execution_count": 170,
   "metadata": {},
   "outputs": [
    {
     "data": {
      "text/html": [
       "<div>\n",
       "<style scoped>\n",
       "    .dataframe tbody tr th:only-of-type {\n",
       "        vertical-align: middle;\n",
       "    }\n",
       "\n",
       "    .dataframe tbody tr th {\n",
       "        vertical-align: top;\n",
       "    }\n",
       "\n",
       "    .dataframe thead th {\n",
       "        text-align: right;\n",
       "    }\n",
       "</style>\n",
       "<table border=\"1\" class=\"dataframe\">\n",
       "  <thead>\n",
       "    <tr style=\"text-align: right;\">\n",
       "      <th></th>\n",
       "      <th>asset</th>\n",
       "      <th>nfin</th>\n",
       "      <th>fin</th>\n",
       "      <th>houses</th>\n",
       "      <th>debt</th>\n",
       "      <th>kgtotal</th>\n",
       "      <th>agecl</th>\n",
       "      <th>spendmor</th>\n",
       "      <th>educ</th>\n",
       "      <th>married</th>\n",
       "      <th>lifecl</th>\n",
       "      <th>kids</th>\n",
       "      <th>yesfinrisk</th>\n",
       "    </tr>\n",
       "  </thead>\n",
       "  <tbody>\n",
       "    <tr>\n",
       "      <th>5</th>\n",
       "      <td>1,240,500.00</td>\n",
       "      <td>1,100,000.00</td>\n",
       "      <td>140500</td>\n",
       "      <td>580,000.00</td>\n",
       "      <td>518700</td>\n",
       "      <td>164,000.00</td>\n",
       "      <td>3</td>\n",
       "      <td>3</td>\n",
       "      <td>12</td>\n",
       "      <td>2</td>\n",
       "      <td>1</td>\n",
       "      <td>0</td>\n",
       "      <td>0</td>\n",
       "    </tr>\n",
       "    <tr>\n",
       "      <th>6</th>\n",
       "      <td>1,242,500.00</td>\n",
       "      <td>1,100,000.00</td>\n",
       "      <td>142500</td>\n",
       "      <td>580,000.00</td>\n",
       "      <td>518700</td>\n",
       "      <td>164,000.00</td>\n",
       "      <td>3</td>\n",
       "      <td>3</td>\n",
       "      <td>12</td>\n",
       "      <td>2</td>\n",
       "      <td>1</td>\n",
       "      <td>0</td>\n",
       "      <td>0</td>\n",
       "    </tr>\n",
       "    <tr>\n",
       "      <th>7</th>\n",
       "      <td>1,241,100.00</td>\n",
       "      <td>1,100,000.00</td>\n",
       "      <td>141100</td>\n",
       "      <td>580,000.00</td>\n",
       "      <td>519700</td>\n",
       "      <td>164,000.00</td>\n",
       "      <td>3</td>\n",
       "      <td>3</td>\n",
       "      <td>12</td>\n",
       "      <td>2</td>\n",
       "      <td>1</td>\n",
       "      <td>0</td>\n",
       "      <td>0</td>\n",
       "    </tr>\n",
       "    <tr>\n",
       "      <th>8</th>\n",
       "      <td>1,244,000.00</td>\n",
       "      <td>1,100,000.00</td>\n",
       "      <td>144000</td>\n",
       "      <td>580,000.00</td>\n",
       "      <td>519700</td>\n",
       "      <td>164,000.00</td>\n",
       "      <td>3</td>\n",
       "      <td>3</td>\n",
       "      <td>12</td>\n",
       "      <td>2</td>\n",
       "      <td>1</td>\n",
       "      <td>0</td>\n",
       "      <td>0</td>\n",
       "    </tr>\n",
       "    <tr>\n",
       "      <th>9</th>\n",
       "      <td>1,241,300.00</td>\n",
       "      <td>1,099,000.00</td>\n",
       "      <td>142300</td>\n",
       "      <td>580,000.00</td>\n",
       "      <td>518700</td>\n",
       "      <td>164,000.00</td>\n",
       "      <td>3</td>\n",
       "      <td>3</td>\n",
       "      <td>12</td>\n",
       "      <td>2</td>\n",
       "      <td>1</td>\n",
       "      <td>0</td>\n",
       "      <td>0</td>\n",
       "    </tr>\n",
       "  </tbody>\n",
       "</table>\n",
       "</div>"
      ],
      "text/plain": [
       "         asset         nfin     fin     houses    debt    kgtotal  agecl  \\\n",
       "5 1,240,500.00 1,100,000.00  140500 580,000.00  518700 164,000.00      3   \n",
       "6 1,242,500.00 1,100,000.00  142500 580,000.00  518700 164,000.00      3   \n",
       "7 1,241,100.00 1,100,000.00  141100 580,000.00  519700 164,000.00      3   \n",
       "8 1,244,000.00 1,100,000.00  144000 580,000.00  519700 164,000.00      3   \n",
       "9 1,241,300.00 1,099,000.00  142300 580,000.00  518700 164,000.00      3   \n",
       "\n",
       "   spendmor  educ  married  lifecl  kids  yesfinrisk  \n",
       "5         3    12        2       1     0           0  \n",
       "6         3    12        2       1     0           0  \n",
       "7         3    12        2       1     0           0  \n",
       "8         3    12        2       1     0           0  \n",
       "9         3    12        2       1     0           0  "
      ]
     },
     "execution_count": 170,
     "metadata": {},
     "output_type": "execute_result"
    }
   ],
   "source": [
    "#Combine financial and demographical features into one list\n",
    "#Subset the dataset using these feautres\n",
    "features = fin_features + demo_features\n",
    "X_hca = filtered_scfe[features]\n",
    "X_hca.head()"
   ]
  },
  {
   "cell_type": "code",
   "execution_count": 171,
   "metadata": {},
   "outputs": [
    {
     "name": "stdout",
     "output_type": "stream",
     "text": [
      "X_hca_scaled shape: (4596, 13)\n"
     ]
    },
    {
     "data": {
      "text/html": [
       "<div>\n",
       "<style scoped>\n",
       "    .dataframe tbody tr th:only-of-type {\n",
       "        vertical-align: middle;\n",
       "    }\n",
       "\n",
       "    .dataframe tbody tr th {\n",
       "        vertical-align: top;\n",
       "    }\n",
       "\n",
       "    .dataframe thead th {\n",
       "        text-align: right;\n",
       "    }\n",
       "</style>\n",
       "<table border=\"1\" class=\"dataframe\">\n",
       "  <thead>\n",
       "    <tr style=\"text-align: right;\">\n",
       "      <th></th>\n",
       "      <th>asset</th>\n",
       "      <th>nfin</th>\n",
       "      <th>fin</th>\n",
       "      <th>houses</th>\n",
       "      <th>debt</th>\n",
       "      <th>kgtotal</th>\n",
       "      <th>agecl</th>\n",
       "      <th>spendmor</th>\n",
       "      <th>educ</th>\n",
       "      <th>married</th>\n",
       "      <th>lifecl</th>\n",
       "      <th>kids</th>\n",
       "      <th>yesfinrisk</th>\n",
       "    </tr>\n",
       "  </thead>\n",
       "  <tbody>\n",
       "    <tr>\n",
       "      <th>0</th>\n",
       "      <td>-0.62</td>\n",
       "      <td>-0.50</td>\n",
       "      <td>-0.54</td>\n",
       "      <td>-0.37</td>\n",
       "      <td>0.67</td>\n",
       "      <td>-0.52</td>\n",
       "      <td>-0.46</td>\n",
       "      <td>-0.33</td>\n",
       "      <td>0.24</td>\n",
       "      <td>2.07</td>\n",
       "      <td>-2.12</td>\n",
       "      <td>-0.68</td>\n",
       "      <td>-0.27</td>\n",
       "    </tr>\n",
       "    <tr>\n",
       "      <th>1</th>\n",
       "      <td>-0.62</td>\n",
       "      <td>-0.50</td>\n",
       "      <td>-0.54</td>\n",
       "      <td>-0.37</td>\n",
       "      <td>0.67</td>\n",
       "      <td>-0.52</td>\n",
       "      <td>-0.46</td>\n",
       "      <td>-0.33</td>\n",
       "      <td>0.24</td>\n",
       "      <td>2.07</td>\n",
       "      <td>-2.12</td>\n",
       "      <td>-0.68</td>\n",
       "      <td>-0.27</td>\n",
       "    </tr>\n",
       "    <tr>\n",
       "      <th>2</th>\n",
       "      <td>-0.62</td>\n",
       "      <td>-0.50</td>\n",
       "      <td>-0.54</td>\n",
       "      <td>-0.37</td>\n",
       "      <td>0.68</td>\n",
       "      <td>-0.52</td>\n",
       "      <td>-0.46</td>\n",
       "      <td>-0.33</td>\n",
       "      <td>0.24</td>\n",
       "      <td>2.07</td>\n",
       "      <td>-2.12</td>\n",
       "      <td>-0.68</td>\n",
       "      <td>-0.27</td>\n",
       "    </tr>\n",
       "    <tr>\n",
       "      <th>3</th>\n",
       "      <td>-0.62</td>\n",
       "      <td>-0.50</td>\n",
       "      <td>-0.54</td>\n",
       "      <td>-0.37</td>\n",
       "      <td>0.68</td>\n",
       "      <td>-0.52</td>\n",
       "      <td>-0.46</td>\n",
       "      <td>-0.33</td>\n",
       "      <td>0.24</td>\n",
       "      <td>2.07</td>\n",
       "      <td>-2.12</td>\n",
       "      <td>-0.68</td>\n",
       "      <td>-0.27</td>\n",
       "    </tr>\n",
       "    <tr>\n",
       "      <th>4</th>\n",
       "      <td>-0.62</td>\n",
       "      <td>-0.50</td>\n",
       "      <td>-0.54</td>\n",
       "      <td>-0.37</td>\n",
       "      <td>0.67</td>\n",
       "      <td>-0.52</td>\n",
       "      <td>-0.46</td>\n",
       "      <td>-0.33</td>\n",
       "      <td>0.24</td>\n",
       "      <td>2.07</td>\n",
       "      <td>-2.12</td>\n",
       "      <td>-0.68</td>\n",
       "      <td>-0.27</td>\n",
       "    </tr>\n",
       "  </tbody>\n",
       "</table>\n",
       "</div>"
      ],
      "text/plain": [
       "   asset  nfin   fin  houses  debt  kgtotal  agecl  spendmor  educ  married  \\\n",
       "0  -0.62 -0.50 -0.54   -0.37  0.67    -0.52  -0.46     -0.33  0.24     2.07   \n",
       "1  -0.62 -0.50 -0.54   -0.37  0.67    -0.52  -0.46     -0.33  0.24     2.07   \n",
       "2  -0.62 -0.50 -0.54   -0.37  0.68    -0.52  -0.46     -0.33  0.24     2.07   \n",
       "3  -0.62 -0.50 -0.54   -0.37  0.68    -0.52  -0.46     -0.33  0.24     2.07   \n",
       "4  -0.62 -0.50 -0.54   -0.37  0.67    -0.52  -0.46     -0.33  0.24     2.07   \n",
       "\n",
       "   lifecl  kids  yesfinrisk  \n",
       "0   -2.12 -0.68       -0.27  \n",
       "1   -2.12 -0.68       -0.27  \n",
       "2   -2.12 -0.68       -0.27  \n",
       "3   -2.12 -0.68       -0.27  \n",
       "4   -2.12 -0.68       -0.27  "
      ]
     },
     "execution_count": 171,
     "metadata": {},
     "output_type": "execute_result"
    }
   ],
   "source": [
    "#Instantiate scaler transformer\n",
    "ss = StandardScaler()\n",
    "\n",
    "#Transform \"X\"\n",
    "X_scaled_data = ss.fit_transform(X_hca)\n",
    "\n",
    "#Put \"X_scaled_data\" into DataFrame\n",
    "X_hca_scaled = pd.DataFrame(X_scaled_data, columns=X_hca.columns)\n",
    "\n",
    "print(\"X_hca_scaled shape:\", X_hca_scaled.shape)\n",
    "X_hca_scaled.head()"
   ]
  },
  {
   "cell_type": "code",
   "execution_count": 172,
   "metadata": {},
   "outputs": [],
   "source": [
    "#Instantiate gower distance matrix\n",
    "category = [True if x in features else False for x in X_hca.columns]\n",
    "\n",
    "gd = gower.gower_matrix(X_hca_scaled, cat_features=category)"
   ]
  },
  {
   "cell_type": "code",
   "execution_count": 173,
   "metadata": {},
   "outputs": [
    {
     "name": "stdout",
     "output_type": "stream",
     "text": [
      "Data shape: (4596, 13)\n",
      "Matrix shape: (4596, 4596)\n"
     ]
    },
    {
     "data": {
      "text/html": [
       "<div>\n",
       "<style scoped>\n",
       "    .dataframe tbody tr th:only-of-type {\n",
       "        vertical-align: middle;\n",
       "    }\n",
       "\n",
       "    .dataframe tbody tr th {\n",
       "        vertical-align: top;\n",
       "    }\n",
       "\n",
       "    .dataframe thead th {\n",
       "        text-align: right;\n",
       "    }\n",
       "</style>\n",
       "<table border=\"1\" class=\"dataframe\">\n",
       "  <thead>\n",
       "    <tr style=\"text-align: right;\">\n",
       "      <th></th>\n",
       "      <th>0</th>\n",
       "      <th>1</th>\n",
       "      <th>2</th>\n",
       "    </tr>\n",
       "  </thead>\n",
       "  <tbody>\n",
       "    <tr>\n",
       "      <th>0</th>\n",
       "      <td>0.00</td>\n",
       "      <td>0.15</td>\n",
       "      <td>0.23</td>\n",
       "    </tr>\n",
       "    <tr>\n",
       "      <th>1</th>\n",
       "      <td>0.15</td>\n",
       "      <td>0.00</td>\n",
       "      <td>0.23</td>\n",
       "    </tr>\n",
       "    <tr>\n",
       "      <th>2</th>\n",
       "      <td>0.23</td>\n",
       "      <td>0.23</td>\n",
       "      <td>0.00</td>\n",
       "    </tr>\n",
       "  </tbody>\n",
       "</table>\n",
       "</div>"
      ],
      "text/plain": [
       "     0    1    2\n",
       "0 0.00 0.15 0.23\n",
       "1 0.15 0.00 0.23\n",
       "2 0.23 0.23 0.00"
      ]
     },
     "execution_count": 173,
     "metadata": {},
     "output_type": "execute_result"
    }
   ],
   "source": [
    "#Compare matrix and original data shape\n",
    "print(f\"Data shape: {X_hca_scaled.shape}\\nMatrix shape: {gd.shape}\")\n",
    "pd.DataFrame(gd[:3,:3])"
   ]
  },
  {
   "cell_type": "code",
   "execution_count": 174,
   "metadata": {},
   "outputs": [
    {
     "data": {
      "text/html": [
       "<div>\n",
       "<style scoped>\n",
       "    .dataframe tbody tr th:only-of-type {\n",
       "        vertical-align: middle;\n",
       "    }\n",
       "\n",
       "    .dataframe tbody tr th {\n",
       "        vertical-align: top;\n",
       "    }\n",
       "\n",
       "    .dataframe thead th {\n",
       "        text-align: right;\n",
       "    }\n",
       "</style>\n",
       "<table border=\"1\" class=\"dataframe\">\n",
       "  <thead>\n",
       "    <tr style=\"text-align: right;\">\n",
       "      <th></th>\n",
       "      <th>id1</th>\n",
       "      <th>id2</th>\n",
       "      <th>dist</th>\n",
       "      <th>n</th>\n",
       "    </tr>\n",
       "  </thead>\n",
       "  <tbody>\n",
       "    <tr>\n",
       "      <th>0</th>\n",
       "      <td>472.00</td>\n",
       "      <td>474.00</td>\n",
       "      <td>0.00</td>\n",
       "      <td>2.00</td>\n",
       "    </tr>\n",
       "    <tr>\n",
       "      <th>1</th>\n",
       "      <td>10.00</td>\n",
       "      <td>11.00</td>\n",
       "      <td>0.00</td>\n",
       "      <td>2.00</td>\n",
       "    </tr>\n",
       "  </tbody>\n",
       "</table>\n",
       "</div>"
      ],
      "text/plain": [
       "     id1    id2  dist    n\n",
       "0 472.00 474.00  0.00 2.00\n",
       "1  10.00  11.00  0.00 2.00"
      ]
     },
     "execution_count": 174,
     "metadata": {},
     "output_type": "execute_result"
    }
   ],
   "source": [
    "#Condense matrix\n",
    "gdv = squareform(gd,force='tovector')\n",
    "#output matrix has format [idx1, idx2, dist, sample_count]\n",
    "Z = linkage(gdv,method='complete')\n",
    "Z_df = pd.DataFrame(Z,columns=['id1','id2','dist','n'])\n",
    "Z_df[:2]"
   ]
  },
  {
   "cell_type": "code",
   "execution_count": 175,
   "metadata": {},
   "outputs": [
    {
     "name": "stdout",
     "output_type": "stream",
     "text": [
      "Leaves = 125\n"
     ]
    },
    {
     "data": {
      "image/png": "[encoded data removed]",
      "text/plain": [
       "<Figure size 1800x360 with 1 Axes>"
      ]
     },
     "metadata": {
      "needs_background": "light"
     },
     "output_type": "display_data"
    }
   ],
   "source": [
    "#Visualize hierarchical cluster with denogram\n",
    "fig,axs = plt.subplots(1,1,figsize=(25,5))\n",
    "dn = dendrogram(Z, truncate_mode='level',p=6,show_leaf_counts=True,ax=axs)\n",
    "print(f\"Leaves = {len(dn['leaves'])}\")\n",
    "#Determine number of clusters\n",
    "max_d = 0.95\n",
    "plt.axhline(y=max_d, linestyle=\"--\", c=\"#f4737a\");\n"
   ]
  },
  {
   "cell_type": "markdown",
   "metadata": {},
   "source": [
    "The graph above shows us that the number of clusters we can choose to optimze clustering is around **k = 5**. "
   ]
  },
  {
   "cell_type": "code",
   "execution_count": 176,
   "metadata": {},
   "outputs": [
    {
     "name": "stderr",
     "output_type": "stream",
     "text": [
      "<ipython-input-176-adefde8e2d0a>:3: SettingWithCopyWarning: \n",
      "A value is trying to be set on a copy of a slice from a DataFrame.\n",
      "Try using .loc[row_indexer,col_indexer] = value instead\n",
      "\n",
      "See the caveats in the documentation: https://pandas.pydata.org/pandas-docs/stable/user_guide/indexing.html#returning-a-view-versus-a-copy\n",
      "  X_hca[\"k\"] = cluster_labels\n"
     ]
    },
    {
     "data": {
      "text/html": [
       "<div>\n",
       "<style scoped>\n",
       "    .dataframe tbody tr th:only-of-type {\n",
       "        vertical-align: middle;\n",
       "    }\n",
       "\n",
       "    .dataframe tbody tr th {\n",
       "        vertical-align: top;\n",
       "    }\n",
       "\n",
       "    .dataframe thead th {\n",
       "        text-align: right;\n",
       "    }\n",
       "</style>\n",
       "<table border=\"1\" class=\"dataframe\">\n",
       "  <thead>\n",
       "    <tr style=\"text-align: right;\">\n",
       "      <th></th>\n",
       "      <th>asset</th>\n",
       "      <th>nfin</th>\n",
       "      <th>fin</th>\n",
       "      <th>houses</th>\n",
       "      <th>debt</th>\n",
       "      <th>kgtotal</th>\n",
       "      <th>agecl</th>\n",
       "      <th>spendmor</th>\n",
       "      <th>educ</th>\n",
       "      <th>married</th>\n",
       "      <th>lifecl</th>\n",
       "      <th>kids</th>\n",
       "      <th>yesfinrisk</th>\n",
       "      <th>k</th>\n",
       "    </tr>\n",
       "  </thead>\n",
       "  <tbody>\n",
       "    <tr>\n",
       "      <th>5</th>\n",
       "      <td>1,240,500.00</td>\n",
       "      <td>1,100,000.00</td>\n",
       "      <td>140500</td>\n",
       "      <td>580,000.00</td>\n",
       "      <td>518700</td>\n",
       "      <td>164,000.00</td>\n",
       "      <td>3</td>\n",
       "      <td>3</td>\n",
       "      <td>12</td>\n",
       "      <td>2</td>\n",
       "      <td>1</td>\n",
       "      <td>0</td>\n",
       "      <td>0</td>\n",
       "      <td>0</td>\n",
       "    </tr>\n",
       "    <tr>\n",
       "      <th>6</th>\n",
       "      <td>1,242,500.00</td>\n",
       "      <td>1,100,000.00</td>\n",
       "      <td>142500</td>\n",
       "      <td>580,000.00</td>\n",
       "      <td>518700</td>\n",
       "      <td>164,000.00</td>\n",
       "      <td>3</td>\n",
       "      <td>3</td>\n",
       "      <td>12</td>\n",
       "      <td>2</td>\n",
       "      <td>1</td>\n",
       "      <td>0</td>\n",
       "      <td>0</td>\n",
       "      <td>0</td>\n",
       "    </tr>\n",
       "    <tr>\n",
       "      <th>7</th>\n",
       "      <td>1,241,100.00</td>\n",
       "      <td>1,100,000.00</td>\n",
       "      <td>141100</td>\n",
       "      <td>580,000.00</td>\n",
       "      <td>519700</td>\n",
       "      <td>164,000.00</td>\n",
       "      <td>3</td>\n",
       "      <td>3</td>\n",
       "      <td>12</td>\n",
       "      <td>2</td>\n",
       "      <td>1</td>\n",
       "      <td>0</td>\n",
       "      <td>0</td>\n",
       "      <td>0</td>\n",
       "    </tr>\n",
       "    <tr>\n",
       "      <th>8</th>\n",
       "      <td>1,244,000.00</td>\n",
       "      <td>1,100,000.00</td>\n",
       "      <td>144000</td>\n",
       "      <td>580,000.00</td>\n",
       "      <td>519700</td>\n",
       "      <td>164,000.00</td>\n",
       "      <td>3</td>\n",
       "      <td>3</td>\n",
       "      <td>12</td>\n",
       "      <td>2</td>\n",
       "      <td>1</td>\n",
       "      <td>0</td>\n",
       "      <td>0</td>\n",
       "      <td>0</td>\n",
       "    </tr>\n",
       "    <tr>\n",
       "      <th>9</th>\n",
       "      <td>1,241,300.00</td>\n",
       "      <td>1,099,000.00</td>\n",
       "      <td>142300</td>\n",
       "      <td>580,000.00</td>\n",
       "      <td>518700</td>\n",
       "      <td>164,000.00</td>\n",
       "      <td>3</td>\n",
       "      <td>3</td>\n",
       "      <td>12</td>\n",
       "      <td>2</td>\n",
       "      <td>1</td>\n",
       "      <td>0</td>\n",
       "      <td>0</td>\n",
       "      <td>0</td>\n",
       "    </tr>\n",
       "  </tbody>\n",
       "</table>\n",
       "</div>"
      ],
      "text/plain": [
       "         asset         nfin     fin     houses    debt    kgtotal  agecl  \\\n",
       "5 1,240,500.00 1,100,000.00  140500 580,000.00  518700 164,000.00      3   \n",
       "6 1,242,500.00 1,100,000.00  142500 580,000.00  518700 164,000.00      3   \n",
       "7 1,241,100.00 1,100,000.00  141100 580,000.00  519700 164,000.00      3   \n",
       "8 1,244,000.00 1,100,000.00  144000 580,000.00  519700 164,000.00      3   \n",
       "9 1,241,300.00 1,099,000.00  142300 580,000.00  518700 164,000.00      3   \n",
       "\n",
       "   spendmor  educ  married  lifecl  kids  yesfinrisk  k  \n",
       "5         3    12        2       1     0           0  0  \n",
       "6         3    12        2       1     0           0  0  \n",
       "7         3    12        2       1     0           0  0  \n",
       "8         3    12        2       1     0           0  0  \n",
       "9         3    12        2       1     0           0  0  "
      ]
     },
     "execution_count": 176,
     "metadata": {},
     "output_type": "execute_result"
    }
   ],
   "source": [
    "#Append cluster into the original X data\n",
    "cluster_labels = cut_tree(Z, n_clusters=5).reshape(-1, )\n",
    "X_hca[\"k\"] = cluster_labels\n",
    "X_hca.head()"
   ]
  },
  {
   "cell_type": "markdown",
   "metadata": {},
   "source": [
    "## Cluster Insight"
   ]
  },
  {
   "cell_type": "code",
   "execution_count": 177,
   "metadata": {},
   "outputs": [
    {
     "data": {
      "image/png": "[encoded data removed]",
      "text/plain": [
       "<Figure size 1152x864 with 3 Axes>"
      ]
     },
     "metadata": {
      "needs_background": "light"
     },
     "output_type": "display_data"
    }
   ],
   "source": [
    "#Visualize cluster\n",
    "fig, axs = plt.subplots(3, 1, sharex=True, figsize=(16,12))\n",
    "# Remove vertical space between axes\n",
    "fig.subplots_adjust(hspace=0)\n",
    "\n",
    "#Plot graph containing financial features\n",
    "X_hca.groupby(\"k\")[[\"asset\", \"nfin\", \"fin\", \"houses\", \"debt\", \"kgtotal\"]].mean().plot.bar(ax=axs[0], color=palette[:6])\n",
    "\n",
    "#plot graph containing demographical features\n",
    "X_hca.groupby(\"k\")[[\"agecl\",\"spendmor\", \"educ\", \"lifecl\", \"married\", \"kids\"]].mean().plot.bar(ax=axs[1], color=palette[6:])\n",
    "tick_spacing = 1\n",
    "axs[1].yaxis.set_major_locator(ticker.MultipleLocator(tick_spacing))\n",
    "\n",
    "#plot graph containing risk features\n",
    "X_hca.groupby(\"k\")[\"yesfinrisk\"].mean().plot.bar(ax=axs[2], color=\"#f4737a\", label=\"yesfinrisk\")\n",
    "axs[2].legend(loc=\"upper right\")\n",
    "t = plt.suptitle(\"Clustering by Features\", fontsize=28)\n",
    "plt.show();\n"
   ]
  },
  {
   "cell_type": "markdown",
   "metadata": {},
   "source": [
    "The plot above shows the average value of the attributes (financial and demographical) for each of the clusters. For example, comparing all the clusters, **cluster 3 and Cluster 4** has the highest value of financial and non-financial assets as well as houses and capital gains. At the same time, these two clusters has the higher average age and education level. This demographical distinction explain why there is a higher level of concentration of assets (both financial and nonfinancial) for these two clusters. In terms of risk appetite, **Cluster 4** show the most willingness to take financial risk, since they would have a more cushioning in terms of asset and the fact that respondents in this cluster would spend more if asset appreciates in value. \n",
    "\n",
    "Out of all the cluster, **Cluster 0** has the least amount of asset, low home ownership but would be somewhat willing to take financial risk. This could be explained by the low life cycle, high education level and the fact that this group are more likely to be married or with partner. All clusters seem to indicated the presence of children, except for cluster 2, despite the fact that observations in this cluster are more likely to be married."
   ]
  },
  {
   "cell_type": "markdown",
   "metadata": {},
   "source": [
    "Based on the graphs and insights above, we could summarize as a table below:"
   ]
  },
  {
   "cell_type": "markdown",
   "metadata": {},
   "source": [
    "## Conclusion"
   ]
  },
  {
   "cell_type": "markdown",
   "metadata": {},
   "source": [
    "We conclude the portfolio by summarizing the answers to the two questions proposed:"
   ]
  },
  {
   "cell_type": "markdown",
   "metadata": {},
   "source": [
    "- How can we cluster business owners in the US to better identify different types of investors?\n",
    "    - Using KMeans as a starting point and then refining through Agglomerative Hierarchical Clustering, we are able to identify **5 clusters** with characteristics as detailed in the table below. "
   ]
  },
  {
   "cell_type": "markdown",
   "metadata": {},
   "source": [
    "|Cluster   |Demographical Features   |Financial Features   |Risk Capacity   |Suggested Portfolio Approach   |\n",
    "|---|---|---|---|---|\n",
    "|Cluster 0   |Under 45, not married   |Low asset, some capital gains, no house   |Medium   |Dividend-paying stocks and coupon-yielding bonds   |\n",
    "|Cluster 1   |Age 45 - 54, married, has kids   |Low asset, own house, some  capital gains, high debt   |Medium   |Balanced funds   |\n",
    "|Cluster 2   |Age 55 - 64, no kids |Medium asset, own house, low debt   |Medium  |Balanced funds, 40/60 Bond/Stocks split   |\n",
    "|Cluster 3   |Age 55 - 64, married, no kids|High asset, high house value, high debt, high capital gains|Low   |Low-cost index funds   |\n",
    "|Cluster 4   |Under 35, no kids|High asset, no house, some capital gains   |High   |Growth stocks, commodity and (or) money market funds   |\n"
   ]
  },
  {
   "cell_type": "markdown",
   "metadata": {},
   "source": [
    "- What are the influential attributes in determining the clusters?\n",
    "    - By making use of Principal Component Analysis, we were able to extract the most influential financial features such as **asset, capital gains, debt and value of houses.**"
   ]
  }
 ],
 "metadata": {
  "kernelspec": {
   "display_name": "Python 3",
   "language": "python",
   "name": "python3"
  },
  "language_info": {
   "codemirror_mode": {
    "name": "ipython",
    "version": 3
   },
   "file_extension": ".py",
   "mimetype": "text/x-python",
   "name": "python",
   "nbconvert_exporter": "python",
   "pygments_lexer": "ipython3",
   "version": "3.8.5"
  }
 },
 "nbformat": 4,
 "nbformat_minor": 4
}
